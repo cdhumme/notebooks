{
 "cells": [
  {
   "cell_type": "markdown",
   "metadata": {},
   "source": [
    "# Chapter 6 - Linear Model Selection and Regularization"
   ]
  },
  {
   "cell_type": "markdown",
   "metadata": {},
   "source": [
    "- [Lab 2: Ridge Regression](#6.6.1-Ridge-Regression)\n",
    "- [Lab 2: The Lasso](#6.6.2-The-Lasso)\n",
    "- [Lab 3: Principal Components Regression](#6.7.1-Principal-Components-Regression)\n",
    "- [Lab 3: Partial Least Squares](#6.7.2-Partial-Least-Squares)"
   ]
  },
  {
   "cell_type": "code",
   "execution_count": 2,
   "metadata": {},
   "outputs": [],
   "source": [
    "# %load ../standard_import.txt\n",
    "import pandas as pd\n",
    "import numpy as np\n",
    "import matplotlib.pyplot as plt\n",
    "import seaborn as sns\n",
    "\n",
    "import glmnet as gln\n",
    "\n",
    "from sklearn.preprocessing import scale \n",
    "from sklearn import model_selection\n",
    "from sklearn.linear_model import LinearRegression, Ridge, RidgeCV, Lasso, LassoCV\n",
    "from sklearn.decomposition import PCA\n",
    "from sklearn.cross_decomposition import PLSRegression\n",
    "from sklearn.model_selection import KFold, cross_val_score\n",
    "from sklearn.metrics import mean_squared_error\n",
    "\n",
    "%matplotlib inline\n",
    "plt.style.use('seaborn-white')"
   ]
  },
  {
   "cell_type": "markdown",
   "metadata": {},
   "source": [
    "# The Credit Dataset"
   ]
  },
  {
   "cell_type": "markdown",
   "metadata": {},
   "source": [
    "## Get Data"
   ]
  },
  {
   "cell_type": "code",
   "execution_count": 39,
   "metadata": {},
   "outputs": [
    {
     "data": {
      "text/html": [
       "<div>\n",
       "<style scoped>\n",
       "    .dataframe tbody tr th:only-of-type {\n",
       "        vertical-align: middle;\n",
       "    }\n",
       "\n",
       "    .dataframe tbody tr th {\n",
       "        vertical-align: top;\n",
       "    }\n",
       "\n",
       "    .dataframe thead th {\n",
       "        text-align: right;\n",
       "    }\n",
       "</style>\n",
       "<table border=\"1\" class=\"dataframe\">\n",
       "  <thead>\n",
       "    <tr style=\"text-align: right;\">\n",
       "      <th></th>\n",
       "      <th>Income</th>\n",
       "      <th>Limit</th>\n",
       "      <th>Rating</th>\n",
       "      <th>Cards</th>\n",
       "      <th>Age</th>\n",
       "      <th>Education</th>\n",
       "      <th>Gender</th>\n",
       "      <th>Student</th>\n",
       "      <th>Married</th>\n",
       "      <th>Ethnicity</th>\n",
       "      <th>Balance</th>\n",
       "    </tr>\n",
       "  </thead>\n",
       "  <tbody>\n",
       "    <tr>\n",
       "      <th>1</th>\n",
       "      <td>14.891</td>\n",
       "      <td>3606</td>\n",
       "      <td>283</td>\n",
       "      <td>2</td>\n",
       "      <td>34</td>\n",
       "      <td>11</td>\n",
       "      <td>Male</td>\n",
       "      <td>No</td>\n",
       "      <td>Yes</td>\n",
       "      <td>Caucasian</td>\n",
       "      <td>333</td>\n",
       "    </tr>\n",
       "    <tr>\n",
       "      <th>2</th>\n",
       "      <td>106.025</td>\n",
       "      <td>6645</td>\n",
       "      <td>483</td>\n",
       "      <td>3</td>\n",
       "      <td>82</td>\n",
       "      <td>15</td>\n",
       "      <td>Female</td>\n",
       "      <td>Yes</td>\n",
       "      <td>Yes</td>\n",
       "      <td>Asian</td>\n",
       "      <td>903</td>\n",
       "    </tr>\n",
       "    <tr>\n",
       "      <th>3</th>\n",
       "      <td>104.593</td>\n",
       "      <td>7075</td>\n",
       "      <td>514</td>\n",
       "      <td>4</td>\n",
       "      <td>71</td>\n",
       "      <td>11</td>\n",
       "      <td>Male</td>\n",
       "      <td>No</td>\n",
       "      <td>No</td>\n",
       "      <td>Asian</td>\n",
       "      <td>580</td>\n",
       "    </tr>\n",
       "  </tbody>\n",
       "</table>\n",
       "</div>"
      ],
      "text/plain": [
       "    Income  Limit  Rating  Cards  Age  Education  Gender Student Married  \\\n",
       "1   14.891   3606     283      2   34         11    Male      No     Yes   \n",
       "2  106.025   6645     483      3   82         15  Female     Yes     Yes   \n",
       "3  104.593   7075     514      4   71         11    Male      No      No   \n",
       "\n",
       "   Ethnicity  Balance  \n",
       "1  Caucasian      333  \n",
       "2      Asian      903  \n",
       "3      Asian      580  "
      ]
     },
     "execution_count": 39,
     "metadata": {},
     "output_type": "execute_result"
    }
   ],
   "source": [
    "df = pd.read_csv('https://www.palmetto.clemson.edu/dsci/datasets/isl/Credit.csv', index_col=0)\n",
    "# df = df.drop(df.columns[0], axis=1)\n",
    "df.head(3)"
   ]
  },
  {
   "cell_type": "markdown",
   "metadata": {},
   "source": [
    "## Encode categorical data"
   ]
  },
  {
   "cell_type": "code",
   "execution_count": null,
   "metadata": {},
   "outputs": [],
   "source": [
    "## pandas.factorize -- Encode the object as an enumerated type or categorical variable."
   ]
  },
  {
   "cell_type": "code",
   "execution_count": 40,
   "metadata": {},
   "outputs": [
    {
     "data": {
      "text/html": [
       "<div>\n",
       "<style scoped>\n",
       "    .dataframe tbody tr th:only-of-type {\n",
       "        vertical-align: middle;\n",
       "    }\n",
       "\n",
       "    .dataframe tbody tr th {\n",
       "        vertical-align: top;\n",
       "    }\n",
       "\n",
       "    .dataframe thead th {\n",
       "        text-align: right;\n",
       "    }\n",
       "</style>\n",
       "<table border=\"1\" class=\"dataframe\">\n",
       "  <thead>\n",
       "    <tr style=\"text-align: right;\">\n",
       "      <th></th>\n",
       "      <th>Income</th>\n",
       "      <th>Limit</th>\n",
       "      <th>Rating</th>\n",
       "      <th>Cards</th>\n",
       "      <th>Age</th>\n",
       "      <th>Education</th>\n",
       "      <th>Gender</th>\n",
       "      <th>Student</th>\n",
       "      <th>Married</th>\n",
       "      <th>African American</th>\n",
       "      <th>Asian</th>\n",
       "      <th>Caucasian</th>\n",
       "      <th>Balance</th>\n",
       "    </tr>\n",
       "  </thead>\n",
       "  <tbody>\n",
       "    <tr>\n",
       "      <th>1</th>\n",
       "      <td>14.891</td>\n",
       "      <td>3606</td>\n",
       "      <td>283</td>\n",
       "      <td>2</td>\n",
       "      <td>34</td>\n",
       "      <td>11</td>\n",
       "      <td>0</td>\n",
       "      <td>0</td>\n",
       "      <td>0</td>\n",
       "      <td>0</td>\n",
       "      <td>0</td>\n",
       "      <td>1</td>\n",
       "      <td>333</td>\n",
       "    </tr>\n",
       "    <tr>\n",
       "      <th>2</th>\n",
       "      <td>106.025</td>\n",
       "      <td>6645</td>\n",
       "      <td>483</td>\n",
       "      <td>3</td>\n",
       "      <td>82</td>\n",
       "      <td>15</td>\n",
       "      <td>1</td>\n",
       "      <td>1</td>\n",
       "      <td>0</td>\n",
       "      <td>0</td>\n",
       "      <td>1</td>\n",
       "      <td>0</td>\n",
       "      <td>903</td>\n",
       "    </tr>\n",
       "    <tr>\n",
       "      <th>3</th>\n",
       "      <td>104.593</td>\n",
       "      <td>7075</td>\n",
       "      <td>514</td>\n",
       "      <td>4</td>\n",
       "      <td>71</td>\n",
       "      <td>11</td>\n",
       "      <td>0</td>\n",
       "      <td>0</td>\n",
       "      <td>1</td>\n",
       "      <td>0</td>\n",
       "      <td>1</td>\n",
       "      <td>0</td>\n",
       "      <td>580</td>\n",
       "    </tr>\n",
       "  </tbody>\n",
       "</table>\n",
       "</div>"
      ],
      "text/plain": [
       "    Income  Limit  Rating  Cards  Age  Education  Gender  Student  Married  \\\n",
       "1   14.891   3606     283      2   34         11       0        0        0   \n",
       "2  106.025   6645     483      3   82         15       1        1        0   \n",
       "3  104.593   7075     514      4   71         11       0        0        1   \n",
       "\n",
       "   African American  Asian  Caucasian  Balance  \n",
       "1                 0      0          1      333  \n",
       "2                 0      1          0      903  \n",
       "3                 0      1          0      580  "
      ]
     },
     "execution_count": 40,
     "metadata": {},
     "output_type": "execute_result"
    }
   ],
   "source": [
    "for col in ['Gender', 'Student', 'Married']:\n",
    "    df[col] = pd.factorize(df[col])[0]\n",
    "if 'Ethnicity' in df.columns:\n",
    "    df = pd.concat([df, pd.get_dummies(df['Ethnicity'])], axis=1)\n",
    "    df.drop('Ethnicity', axis=1, inplace=True)\n",
    "if 'Balance' in df.columns:\n",
    "    balance = df['Balance']\n",
    "    df.drop('Balance', axis=1, inplace=True)\n",
    "    df['Balance'] = balance\n",
    "df.head(3)"
   ]
  },
  {
   "cell_type": "code",
   "execution_count": 4,
   "metadata": {},
   "outputs": [],
   "source": [
    "def get_credit_data():\n",
    "    df = pd.read_csv('https://www.palmetto.clemson.edu/dsci/datasets/isl/Credit.csv', index_col=0)\n",
    "    for col in ['Gender', 'Student', 'Married']:\n",
    "        df[col] = pd.factorize(df[col])[0]\n",
    "    if 'Ethnicity' in df.columns:\n",
    "        df = pd.concat([df, pd.get_dummies(df['Ethnicity'], prefix=\"Ethnicity\", drop_first=True)], axis=1)\n",
    "        df.drop('Ethnicity', axis=1, inplace=True)\n",
    "    if 'Balance' in df.columns:\n",
    "        balance = df['Balance']\n",
    "        df.drop('Balance', axis=1, inplace=True)\n",
    "        df['Balance'] = balance\n",
    "    return df"
   ]
  },
  {
   "cell_type": "markdown",
   "metadata": {},
   "source": [
    "# Best Subset Selection\n",
    "\n",
    "To perform best subset selection, we fit a separate least squares regression for each possible combination of the p predictors.\n",
    "\n",
    "Algorithm\n",
    "\n",
    "1. Let $M_0$ denote the _null_ model which contains no predictors, this model simply predicts the sample mean of each observation\n",
    "\n",
    "2.  For k=1,2,...,n:\n",
    "       \n",
    "       (a) Fit all ${N}\\choose{k}$ models that contain exactly $k$ predictors\n",
    "       \n",
    "       (b) Pick the best among these ${N}\\choose{k}$ models, and call it $M_k$. Here the best is defined as having the smallest RSS, or an equivalently largest $R^2$.\n",
    "\n",
    "3. Select the single best model among $M_0, M_1, ..., M_p$ using cross validated predicton error, $C_p$, BIC, adjusted $R_2$ or any other method."
   ]
  },
  {
   "cell_type": "code",
   "execution_count": 59,
   "metadata": {},
   "outputs": [],
   "source": [
    "# credit = get_credit_data()\n",
    "X = credit.iloc[:, 0:(credit.shape[1]-1)]\n",
    "y = credit.iloc[:, credit.shape[1]-1]"
   ]
  },
  {
   "cell_type": "code",
   "execution_count": 60,
   "metadata": {},
   "outputs": [],
   "source": [
    "from sklearn.linear_model import LinearRegression\n",
    "from sklearn.metrics import mean_squared_error, r2_score\n",
    "\n",
    "def model_fit(X, y):\n",
    "    model = LinearRegression(fit_intercept=True)\n",
    "    model.fit(X, y)\n",
    "    y_pred = model.predict(X)\n",
    "    RSS = mean_squared_error(y, y_pred)*len(y)\n",
    "    R2 = r2_score(y, y_pred)\n",
    "    return RSS, R2"
   ]
  },
  {
   "cell_type": "code",
   "execution_count": 61,
   "metadata": {},
   "outputs": [
    {
     "data": {
      "text/html": [
       "<div>\n",
       "<style scoped>\n",
       "    .dataframe tbody tr th:only-of-type {\n",
       "        vertical-align: middle;\n",
       "    }\n",
       "\n",
       "    .dataframe tbody tr th {\n",
       "        vertical-align: top;\n",
       "    }\n",
       "\n",
       "    .dataframe thead th {\n",
       "        text-align: right;\n",
       "    }\n",
       "</style>\n",
       "<table border=\"1\" class=\"dataframe\">\n",
       "  <thead>\n",
       "    <tr style=\"text-align: right;\">\n",
       "      <th></th>\n",
       "      <th>subset</th>\n",
       "      <th>rss</th>\n",
       "      <th>r2</th>\n",
       "      <th>n_features</th>\n",
       "    </tr>\n",
       "  </thead>\n",
       "  <tbody>\n",
       "    <tr>\n",
       "      <th>0</th>\n",
       "      <td>(Income,)</td>\n",
       "      <td>6.620874e+07</td>\n",
       "      <td>0.214977</td>\n",
       "      <td>1</td>\n",
       "    </tr>\n",
       "    <tr>\n",
       "      <th>1</th>\n",
       "      <td>(Limit,)</td>\n",
       "      <td>2.171566e+07</td>\n",
       "      <td>0.742522</td>\n",
       "      <td>1</td>\n",
       "    </tr>\n",
       "    <tr>\n",
       "      <th>2</th>\n",
       "      <td>(Rating,)</td>\n",
       "      <td>2.143512e+07</td>\n",
       "      <td>0.745848</td>\n",
       "      <td>1</td>\n",
       "    </tr>\n",
       "    <tr>\n",
       "      <th>3</th>\n",
       "      <td>(Cards,)</td>\n",
       "      <td>8.370950e+07</td>\n",
       "      <td>0.007475</td>\n",
       "      <td>1</td>\n",
       "    </tr>\n",
       "    <tr>\n",
       "      <th>4</th>\n",
       "      <td>(Age,)</td>\n",
       "      <td>8.433963e+07</td>\n",
       "      <td>0.000003</td>\n",
       "      <td>1</td>\n",
       "    </tr>\n",
       "    <tr>\n",
       "      <th>...</th>\n",
       "      <td>...</td>\n",
       "      <td>...</td>\n",
       "      <td>...</td>\n",
       "      <td>...</td>\n",
       "    </tr>\n",
       "    <tr>\n",
       "      <th>2042</th>\n",
       "      <td>(Income, Limit, Rating, Age, Education, Gender...</td>\n",
       "      <td>3.949432e+06</td>\n",
       "      <td>0.953172</td>\n",
       "      <td>10</td>\n",
       "    </tr>\n",
       "    <tr>\n",
       "      <th>2043</th>\n",
       "      <td>(Income, Limit, Cards, Age, Education, Gender,...</td>\n",
       "      <td>3.839044e+06</td>\n",
       "      <td>0.954481</td>\n",
       "      <td>10</td>\n",
       "    </tr>\n",
       "    <tr>\n",
       "      <th>2044</th>\n",
       "      <td>(Income, Rating, Cards, Age, Education, Gender...</td>\n",
       "      <td>4.117780e+06</td>\n",
       "      <td>0.951176</td>\n",
       "      <td>10</td>\n",
       "    </tr>\n",
       "    <tr>\n",
       "      <th>2045</th>\n",
       "      <td>(Limit, Rating, Cards, Age, Education, Gender,...</td>\n",
       "      <td>1.461789e+07</td>\n",
       "      <td>0.826679</td>\n",
       "      <td>10</td>\n",
       "    </tr>\n",
       "    <tr>\n",
       "      <th>2046</th>\n",
       "      <td>(Income, Limit, Rating, Cards, Age, Education,...</td>\n",
       "      <td>3.786730e+06</td>\n",
       "      <td>0.955102</td>\n",
       "      <td>11</td>\n",
       "    </tr>\n",
       "  </tbody>\n",
       "</table>\n",
       "<p>2047 rows × 4 columns</p>\n",
       "</div>"
      ],
      "text/plain": [
       "                                                 subset           rss  \\\n",
       "0                                             (Income,)  6.620874e+07   \n",
       "1                                              (Limit,)  2.171566e+07   \n",
       "2                                             (Rating,)  2.143512e+07   \n",
       "3                                              (Cards,)  8.370950e+07   \n",
       "4                                                (Age,)  8.433963e+07   \n",
       "...                                                 ...           ...   \n",
       "2042  (Income, Limit, Rating, Age, Education, Gender...  3.949432e+06   \n",
       "2043  (Income, Limit, Cards, Age, Education, Gender,...  3.839044e+06   \n",
       "2044  (Income, Rating, Cards, Age, Education, Gender...  4.117780e+06   \n",
       "2045  (Limit, Rating, Cards, Age, Education, Gender,...  1.461789e+07   \n",
       "2046  (Income, Limit, Rating, Cards, Age, Education,...  3.786730e+06   \n",
       "\n",
       "            r2  n_features  \n",
       "0     0.214977           1  \n",
       "1     0.742522           1  \n",
       "2     0.745848           1  \n",
       "3     0.007475           1  \n",
       "4     0.000003           1  \n",
       "...        ...         ...  \n",
       "2042  0.953172          10  \n",
       "2043  0.954481          10  \n",
       "2044  0.951176          10  \n",
       "2045  0.826679          10  \n",
       "2046  0.955102          11  \n",
       "\n",
       "[2047 rows x 4 columns]"
      ]
     },
     "execution_count": 61,
     "metadata": {},
     "output_type": "execute_result"
    }
   ],
   "source": [
    "from itertools import combinations\n",
    "l_model, l_rss, l_r2, l_n_features = [], [], [], []\n",
    "for k in range(1, X.shape[1]+1):\n",
    "    for subset in combinations(X.columns, k):\n",
    "        X_k = X[list(subset)]\n",
    "        RSS, R2 = model_fit(X_k, y)\n",
    "        l_model.append(subset)\n",
    "        l_rss.append(RSS)\n",
    "        l_r2.append(R2)\n",
    "        l_n_features.append(k)\n",
    "df = pd.DataFrame({'subset': l_model, 'rss': l_rss, 'r2': l_r2, 'n_features': l_n_features})\n",
    "df"
   ]
  },
  {
   "cell_type": "code",
   "execution_count": 7,
   "metadata": {},
   "outputs": [
    {
     "data": {
      "text/html": [
       "<div>\n",
       "<style scoped>\n",
       "    .dataframe tbody tr th:only-of-type {\n",
       "        vertical-align: middle;\n",
       "    }\n",
       "\n",
       "    .dataframe tbody tr th {\n",
       "        vertical-align: top;\n",
       "    }\n",
       "\n",
       "    .dataframe thead th {\n",
       "        text-align: right;\n",
       "    }\n",
       "</style>\n",
       "<table border=\"1\" class=\"dataframe\">\n",
       "  <thead>\n",
       "    <tr style=\"text-align: right;\">\n",
       "      <th></th>\n",
       "      <th>subset</th>\n",
       "      <th>rss</th>\n",
       "      <th>r2</th>\n",
       "    </tr>\n",
       "  </thead>\n",
       "  <tbody>\n",
       "    <tr>\n",
       "      <th>0</th>\n",
       "      <td>(Rating,)</td>\n",
       "      <td>2.143512e+07</td>\n",
       "      <td>0.745848</td>\n",
       "    </tr>\n",
       "    <tr>\n",
       "      <th>1</th>\n",
       "      <td>(Income, Rating)</td>\n",
       "      <td>1.053254e+07</td>\n",
       "      <td>0.875118</td>\n",
       "    </tr>\n",
       "    <tr>\n",
       "      <th>2</th>\n",
       "      <td>(Income, Rating, Student)</td>\n",
       "      <td>4.227219e+06</td>\n",
       "      <td>0.949879</td>\n",
       "    </tr>\n",
       "    <tr>\n",
       "      <th>3</th>\n",
       "      <td>(Income, Limit, Cards, Student)</td>\n",
       "      <td>3.915058e+06</td>\n",
       "      <td>0.953580</td>\n",
       "    </tr>\n",
       "    <tr>\n",
       "      <th>4</th>\n",
       "      <td>(Income, Limit, Rating, Cards, Student)</td>\n",
       "      <td>3.866091e+06</td>\n",
       "      <td>0.954161</td>\n",
       "    </tr>\n",
       "    <tr>\n",
       "      <th>5</th>\n",
       "      <td>(Income, Limit, Rating, Cards, Age, Student)</td>\n",
       "      <td>3.821620e+06</td>\n",
       "      <td>0.954688</td>\n",
       "    </tr>\n",
       "    <tr>\n",
       "      <th>6</th>\n",
       "      <td>(Income, Limit, Rating, Cards, Age, Gender, St...</td>\n",
       "      <td>3.810759e+06</td>\n",
       "      <td>0.954817</td>\n",
       "    </tr>\n",
       "    <tr>\n",
       "      <th>7</th>\n",
       "      <td>(Income, Limit, Rating, Cards, Age, Gender, St...</td>\n",
       "      <td>3.804746e+06</td>\n",
       "      <td>0.954888</td>\n",
       "    </tr>\n",
       "    <tr>\n",
       "      <th>8</th>\n",
       "      <td>(Income, Limit, Rating, Cards, Age, Gender, St...</td>\n",
       "      <td>3.798367e+06</td>\n",
       "      <td>0.954964</td>\n",
       "    </tr>\n",
       "    <tr>\n",
       "      <th>9</th>\n",
       "      <td>(Income, Limit, Rating, Cards, Age, Gender, St...</td>\n",
       "      <td>3.791345e+06</td>\n",
       "      <td>0.955047</td>\n",
       "    </tr>\n",
       "    <tr>\n",
       "      <th>10</th>\n",
       "      <td>(Income, Limit, Rating, Cards, Age, Education,...</td>\n",
       "      <td>3.786730e+06</td>\n",
       "      <td>0.955102</td>\n",
       "    </tr>\n",
       "  </tbody>\n",
       "</table>\n",
       "</div>"
      ],
      "text/plain": [
       "                                               subset           rss        r2\n",
       "0                                           (Rating,)  2.143512e+07  0.745848\n",
       "1                                    (Income, Rating)  1.053254e+07  0.875118\n",
       "2                           (Income, Rating, Student)  4.227219e+06  0.949879\n",
       "3                     (Income, Limit, Cards, Student)  3.915058e+06  0.953580\n",
       "4             (Income, Limit, Rating, Cards, Student)  3.866091e+06  0.954161\n",
       "5        (Income, Limit, Rating, Cards, Age, Student)  3.821620e+06  0.954688\n",
       "6   (Income, Limit, Rating, Cards, Age, Gender, St...  3.810759e+06  0.954817\n",
       "7   (Income, Limit, Rating, Cards, Age, Gender, St...  3.804746e+06  0.954888\n",
       "8   (Income, Limit, Rating, Cards, Age, Gender, St...  3.798367e+06  0.954964\n",
       "9   (Income, Limit, Rating, Cards, Age, Gender, St...  3.791345e+06  0.955047\n",
       "10  (Income, Limit, Rating, Cards, Age, Education,...  3.786730e+06  0.955102"
      ]
     },
     "execution_count": 7,
     "metadata": {},
     "output_type": "execute_result"
    }
   ],
   "source": [
    "# from itertools import combinations\n",
    "# l_model, l_rss, l_r2 = [], [], []\n",
    "# for k in range(1, X.shape[1]+1):\n",
    "#     min_rss, max_r2, model_k = np.inf, -np.inf, None\n",
    "#     for subset in combinations(X.columns, k):\n",
    "#         X_k = X[list(subset)]\n",
    "#         RSS, R2 = model_fit(X_k, y)\n",
    "#         if RSS < min_rss:\n",
    "#             min_rss = RSS\n",
    "#             max_r2 = R2\n",
    "#             model_k = subset\n",
    "#     l_model.append(model_k)\n",
    "#     l_rss.append(min_rss)\n",
    "#     l_r2.append(max_r2)\n",
    "# df = pd.DataFrame({'subset': l_model, 'rss': l_rss, 'r2': l_r2})\n",
    "# df"
   ]
  },
  {
   "cell_type": "code",
   "execution_count": 62,
   "metadata": {},
   "outputs": [
    {
     "data": {
      "text/html": [
       "<div>\n",
       "<style scoped>\n",
       "    .dataframe tbody tr th:only-of-type {\n",
       "        vertical-align: middle;\n",
       "    }\n",
       "\n",
       "    .dataframe tbody tr th {\n",
       "        vertical-align: top;\n",
       "    }\n",
       "\n",
       "    .dataframe thead th {\n",
       "        text-align: right;\n",
       "    }\n",
       "</style>\n",
       "<table border=\"1\" class=\"dataframe\">\n",
       "  <thead>\n",
       "    <tr style=\"text-align: right;\">\n",
       "      <th></th>\n",
       "      <th>subset</th>\n",
       "      <th>rss</th>\n",
       "      <th>r2</th>\n",
       "      <th>n_features</th>\n",
       "    </tr>\n",
       "  </thead>\n",
       "  <tbody>\n",
       "    <tr>\n",
       "      <th>2</th>\n",
       "      <td>(Rating,)</td>\n",
       "      <td>2.143512e+07</td>\n",
       "      <td>0.745848</td>\n",
       "      <td>1</td>\n",
       "    </tr>\n",
       "    <tr>\n",
       "      <th>12</th>\n",
       "      <td>(Income, Rating)</td>\n",
       "      <td>1.053254e+07</td>\n",
       "      <td>0.875118</td>\n",
       "      <td>2</td>\n",
       "    </tr>\n",
       "    <tr>\n",
       "      <th>79</th>\n",
       "      <td>(Income, Rating, Student)</td>\n",
       "      <td>4.227219e+06</td>\n",
       "      <td>0.949879</td>\n",
       "      <td>3</td>\n",
       "    </tr>\n",
       "    <tr>\n",
       "      <th>242</th>\n",
       "      <td>(Income, Limit, Cards, Student)</td>\n",
       "      <td>3.915058e+06</td>\n",
       "      <td>0.953580</td>\n",
       "      <td>4</td>\n",
       "    </tr>\n",
       "    <tr>\n",
       "      <th>564</th>\n",
       "      <td>(Income, Limit, Rating, Cards, Student)</td>\n",
       "      <td>3.866091e+06</td>\n",
       "      <td>0.954161</td>\n",
       "      <td>5</td>\n",
       "    </tr>\n",
       "    <tr>\n",
       "      <th>1025</th>\n",
       "      <td>(Income, Limit, Rating, Cards, Age, Student)</td>\n",
       "      <td>3.821620e+06</td>\n",
       "      <td>0.954688</td>\n",
       "      <td>6</td>\n",
       "    </tr>\n",
       "    <tr>\n",
       "      <th>1490</th>\n",
       "      <td>(Income, Limit, Rating, Cards, Age, Gender, St...</td>\n",
       "      <td>3.810759e+06</td>\n",
       "      <td>0.954817</td>\n",
       "      <td>7</td>\n",
       "    </tr>\n",
       "    <tr>\n",
       "      <th>1826</th>\n",
       "      <td>(Income, Limit, Rating, Cards, Age, Gender, St...</td>\n",
       "      <td>3.804746e+06</td>\n",
       "      <td>0.954888</td>\n",
       "      <td>8</td>\n",
       "    </tr>\n",
       "    <tr>\n",
       "      <th>1990</th>\n",
       "      <td>(Income, Limit, Rating, Cards, Age, Gender, St...</td>\n",
       "      <td>3.798367e+06</td>\n",
       "      <td>0.954964</td>\n",
       "      <td>9</td>\n",
       "    </tr>\n",
       "    <tr>\n",
       "      <th>2040</th>\n",
       "      <td>(Income, Limit, Rating, Cards, Age, Gender, St...</td>\n",
       "      <td>3.791345e+06</td>\n",
       "      <td>0.955047</td>\n",
       "      <td>10</td>\n",
       "    </tr>\n",
       "    <tr>\n",
       "      <th>2046</th>\n",
       "      <td>(Income, Limit, Rating, Cards, Age, Education,...</td>\n",
       "      <td>3.786730e+06</td>\n",
       "      <td>0.955102</td>\n",
       "      <td>11</td>\n",
       "    </tr>\n",
       "  </tbody>\n",
       "</table>\n",
       "</div>"
      ],
      "text/plain": [
       "                                                 subset           rss  \\\n",
       "2                                             (Rating,)  2.143512e+07   \n",
       "12                                     (Income, Rating)  1.053254e+07   \n",
       "79                            (Income, Rating, Student)  4.227219e+06   \n",
       "242                     (Income, Limit, Cards, Student)  3.915058e+06   \n",
       "564             (Income, Limit, Rating, Cards, Student)  3.866091e+06   \n",
       "1025       (Income, Limit, Rating, Cards, Age, Student)  3.821620e+06   \n",
       "1490  (Income, Limit, Rating, Cards, Age, Gender, St...  3.810759e+06   \n",
       "1826  (Income, Limit, Rating, Cards, Age, Gender, St...  3.804746e+06   \n",
       "1990  (Income, Limit, Rating, Cards, Age, Gender, St...  3.798367e+06   \n",
       "2040  (Income, Limit, Rating, Cards, Age, Gender, St...  3.791345e+06   \n",
       "2046  (Income, Limit, Rating, Cards, Age, Education,...  3.786730e+06   \n",
       "\n",
       "            r2  n_features  \n",
       "2     0.745848           1  \n",
       "12    0.875118           2  \n",
       "79    0.949879           3  \n",
       "242   0.953580           4  \n",
       "564   0.954161           5  \n",
       "1025  0.954688           6  \n",
       "1490  0.954817           7  \n",
       "1826  0.954888           8  \n",
       "1990  0.954964           9  \n",
       "2040  0.955047          10  \n",
       "2046  0.955102          11  "
      ]
     },
     "execution_count": 62,
     "metadata": {},
     "output_type": "execute_result"
    }
   ],
   "source": [
    "df_min_rss = df[df.groupby(by='n_features')['rss'].transform(min) == df['rss']]\n",
    "df_min_rss"
   ]
  },
  {
   "cell_type": "code",
   "execution_count": 63,
   "metadata": {},
   "outputs": [
    {
     "data": {
      "text/html": [
       "<div>\n",
       "<style scoped>\n",
       "    .dataframe tbody tr th:only-of-type {\n",
       "        vertical-align: middle;\n",
       "    }\n",
       "\n",
       "    .dataframe tbody tr th {\n",
       "        vertical-align: top;\n",
       "    }\n",
       "\n",
       "    .dataframe thead th {\n",
       "        text-align: right;\n",
       "    }\n",
       "</style>\n",
       "<table border=\"1\" class=\"dataframe\">\n",
       "  <thead>\n",
       "    <tr style=\"text-align: right;\">\n",
       "      <th></th>\n",
       "      <th>subset</th>\n",
       "      <th>rss</th>\n",
       "      <th>r2</th>\n",
       "      <th>n_features</th>\n",
       "    </tr>\n",
       "  </thead>\n",
       "  <tbody>\n",
       "    <tr>\n",
       "      <th>2</th>\n",
       "      <td>(Rating,)</td>\n",
       "      <td>2.143512e+07</td>\n",
       "      <td>0.745848</td>\n",
       "      <td>1</td>\n",
       "    </tr>\n",
       "    <tr>\n",
       "      <th>12</th>\n",
       "      <td>(Income, Rating)</td>\n",
       "      <td>1.053254e+07</td>\n",
       "      <td>0.875118</td>\n",
       "      <td>2</td>\n",
       "    </tr>\n",
       "    <tr>\n",
       "      <th>79</th>\n",
       "      <td>(Income, Rating, Student)</td>\n",
       "      <td>4.227219e+06</td>\n",
       "      <td>0.949879</td>\n",
       "      <td>3</td>\n",
       "    </tr>\n",
       "    <tr>\n",
       "      <th>242</th>\n",
       "      <td>(Income, Limit, Cards, Student)</td>\n",
       "      <td>3.915058e+06</td>\n",
       "      <td>0.953580</td>\n",
       "      <td>4</td>\n",
       "    </tr>\n",
       "    <tr>\n",
       "      <th>564</th>\n",
       "      <td>(Income, Limit, Rating, Cards, Student)</td>\n",
       "      <td>3.866091e+06</td>\n",
       "      <td>0.954161</td>\n",
       "      <td>5</td>\n",
       "    </tr>\n",
       "    <tr>\n",
       "      <th>1025</th>\n",
       "      <td>(Income, Limit, Rating, Cards, Age, Student)</td>\n",
       "      <td>3.821620e+06</td>\n",
       "      <td>0.954688</td>\n",
       "      <td>6</td>\n",
       "    </tr>\n",
       "    <tr>\n",
       "      <th>1490</th>\n",
       "      <td>(Income, Limit, Rating, Cards, Age, Gender, St...</td>\n",
       "      <td>3.810759e+06</td>\n",
       "      <td>0.954817</td>\n",
       "      <td>7</td>\n",
       "    </tr>\n",
       "    <tr>\n",
       "      <th>1826</th>\n",
       "      <td>(Income, Limit, Rating, Cards, Age, Gender, St...</td>\n",
       "      <td>3.804746e+06</td>\n",
       "      <td>0.954888</td>\n",
       "      <td>8</td>\n",
       "    </tr>\n",
       "    <tr>\n",
       "      <th>1990</th>\n",
       "      <td>(Income, Limit, Rating, Cards, Age, Gender, St...</td>\n",
       "      <td>3.798367e+06</td>\n",
       "      <td>0.954964</td>\n",
       "      <td>9</td>\n",
       "    </tr>\n",
       "    <tr>\n",
       "      <th>2040</th>\n",
       "      <td>(Income, Limit, Rating, Cards, Age, Gender, St...</td>\n",
       "      <td>3.791345e+06</td>\n",
       "      <td>0.955047</td>\n",
       "      <td>10</td>\n",
       "    </tr>\n",
       "    <tr>\n",
       "      <th>2046</th>\n",
       "      <td>(Income, Limit, Rating, Cards, Age, Education,...</td>\n",
       "      <td>3.786730e+06</td>\n",
       "      <td>0.955102</td>\n",
       "      <td>11</td>\n",
       "    </tr>\n",
       "  </tbody>\n",
       "</table>\n",
       "</div>"
      ],
      "text/plain": [
       "                                                 subset           rss  \\\n",
       "2                                             (Rating,)  2.143512e+07   \n",
       "12                                     (Income, Rating)  1.053254e+07   \n",
       "79                            (Income, Rating, Student)  4.227219e+06   \n",
       "242                     (Income, Limit, Cards, Student)  3.915058e+06   \n",
       "564             (Income, Limit, Rating, Cards, Student)  3.866091e+06   \n",
       "1025       (Income, Limit, Rating, Cards, Age, Student)  3.821620e+06   \n",
       "1490  (Income, Limit, Rating, Cards, Age, Gender, St...  3.810759e+06   \n",
       "1826  (Income, Limit, Rating, Cards, Age, Gender, St...  3.804746e+06   \n",
       "1990  (Income, Limit, Rating, Cards, Age, Gender, St...  3.798367e+06   \n",
       "2040  (Income, Limit, Rating, Cards, Age, Gender, St...  3.791345e+06   \n",
       "2046  (Income, Limit, Rating, Cards, Age, Education,...  3.786730e+06   \n",
       "\n",
       "            r2  n_features  \n",
       "2     0.745848           1  \n",
       "12    0.875118           2  \n",
       "79    0.949879           3  \n",
       "242   0.953580           4  \n",
       "564   0.954161           5  \n",
       "1025  0.954688           6  \n",
       "1490  0.954817           7  \n",
       "1826  0.954888           8  \n",
       "1990  0.954964           9  \n",
       "2040  0.955047          10  \n",
       "2046  0.955102          11  "
      ]
     },
     "execution_count": 63,
     "metadata": {},
     "output_type": "execute_result"
    }
   ],
   "source": [
    "df_min_rss = df[df.groupby(by='n_features')['rss'].transform(min) == df['rss']]\n",
    "df_max_r2 = df[df.groupby(by='n_features')['r2'].transform(max) == df['r2']]\n",
    "df_max_r2"
   ]
  },
  {
   "cell_type": "code",
   "execution_count": 45,
   "metadata": {},
   "outputs": [
    {
     "data": {
      "image/png": "[encoded data removed]",
      "text/plain": [
       "<Figure size 1152x576 with 2 Axes>"
      ]
     },
     "metadata": {},
     "output_type": "display_data"
    }
   ],
   "source": [
    "fig, ax = plt.subplots(1, 2, figsize=(16, 8))\n",
    "\n",
    "ax[0].plot(df_min_rss.n_features, df_min_rss.rss, color='r', marker='x')\n",
    "ax[0].scatter(df.n_features, df.rss)\n",
    "ax[0].set_xlabel('number features')\n",
    "ax[0].set_ylabel('RSS')\n",
    "ax[0].set_title(\"Best Seubset Selection - RSS\")\n",
    "\n",
    "ax[1].plot(df_max_r2.n_features, df_max_r2.r2, color='r', marker='x')\n",
    "ax[1].scatter(df.n_features, df.r2)\n",
    "ax[1].set_xlabel('number features')\n",
    "ax[1].set_ylabel('R2')\n",
    "ax[1].set_title(\"Best Seubset Selection - R2\")\n",
    "\n",
    "plt.show()"
   ]
  },
  {
   "cell_type": "markdown",
   "metadata": {},
   "source": [
    "## Forward stepwise selection"
   ]
  },
  {
   "cell_type": "code",
   "execution_count": 54,
   "metadata": {},
   "outputs": [
    {
     "data": {
      "text/html": [
       "<div>\n",
       "<style scoped>\n",
       "    .dataframe tbody tr th:only-of-type {\n",
       "        vertical-align: middle;\n",
       "    }\n",
       "\n",
       "    .dataframe tbody tr th {\n",
       "        vertical-align: top;\n",
       "    }\n",
       "\n",
       "    .dataframe thead th {\n",
       "        text-align: right;\n",
       "    }\n",
       "</style>\n",
       "<table border=\"1\" class=\"dataframe\">\n",
       "  <thead>\n",
       "    <tr style=\"text-align: right;\">\n",
       "      <th></th>\n",
       "      <th>subset</th>\n",
       "      <th>rss</th>\n",
       "      <th>r2</th>\n",
       "      <th>n_features</th>\n",
       "    </tr>\n",
       "  </thead>\n",
       "  <tbody>\n",
       "    <tr>\n",
       "      <th>0</th>\n",
       "      <td>[Income]</td>\n",
       "      <td>6.620874e+07</td>\n",
       "      <td>0.214977</td>\n",
       "      <td>1</td>\n",
       "    </tr>\n",
       "    <tr>\n",
       "      <th>1</th>\n",
       "      <td>[Limit]</td>\n",
       "      <td>2.171566e+07</td>\n",
       "      <td>0.742522</td>\n",
       "      <td>1</td>\n",
       "    </tr>\n",
       "    <tr>\n",
       "      <th>2</th>\n",
       "      <td>[Rating]</td>\n",
       "      <td>2.143512e+07</td>\n",
       "      <td>0.745848</td>\n",
       "      <td>1</td>\n",
       "    </tr>\n",
       "    <tr>\n",
       "      <th>3</th>\n",
       "      <td>[Cards]</td>\n",
       "      <td>8.370950e+07</td>\n",
       "      <td>0.007475</td>\n",
       "      <td>1</td>\n",
       "    </tr>\n",
       "    <tr>\n",
       "      <th>4</th>\n",
       "      <td>[Age]</td>\n",
       "      <td>8.433963e+07</td>\n",
       "      <td>0.000003</td>\n",
       "      <td>1</td>\n",
       "    </tr>\n",
       "    <tr>\n",
       "      <th>...</th>\n",
       "      <td>...</td>\n",
       "      <td>...</td>\n",
       "      <td>...</td>\n",
       "      <td>...</td>\n",
       "    </tr>\n",
       "    <tr>\n",
       "      <th>61</th>\n",
       "      <td>[Married, Rating, Income, Student, Limit, Card...</td>\n",
       "      <td>3.798367e+06</td>\n",
       "      <td>0.954964</td>\n",
       "      <td>9</td>\n",
       "    </tr>\n",
       "    <tr>\n",
       "      <th>62</th>\n",
       "      <td>[Ethnicity_Caucasian, Rating, Income, Student,...</td>\n",
       "      <td>3.798730e+06</td>\n",
       "      <td>0.954959</td>\n",
       "      <td>9</td>\n",
       "    </tr>\n",
       "    <tr>\n",
       "      <th>63</th>\n",
       "      <td>[Education, Rating, Income, Student, Limit, Ca...</td>\n",
       "      <td>3.793418e+06</td>\n",
       "      <td>0.955022</td>\n",
       "      <td>10</td>\n",
       "    </tr>\n",
       "    <tr>\n",
       "      <th>64</th>\n",
       "      <td>[Ethnicity_Caucasian, Rating, Income, Student,...</td>\n",
       "      <td>3.791345e+06</td>\n",
       "      <td>0.955047</td>\n",
       "      <td>10</td>\n",
       "    </tr>\n",
       "    <tr>\n",
       "      <th>65</th>\n",
       "      <td>[Education, Rating, Income, Student, Limit, Ca...</td>\n",
       "      <td>3.786730e+06</td>\n",
       "      <td>0.955102</td>\n",
       "      <td>11</td>\n",
       "    </tr>\n",
       "  </tbody>\n",
       "</table>\n",
       "<p>66 rows × 4 columns</p>\n",
       "</div>"
      ],
      "text/plain": [
       "                                               subset           rss        r2  \\\n",
       "0                                            [Income]  6.620874e+07  0.214977   \n",
       "1                                             [Limit]  2.171566e+07  0.742522   \n",
       "2                                            [Rating]  2.143512e+07  0.745848   \n",
       "3                                             [Cards]  8.370950e+07  0.007475   \n",
       "4                                               [Age]  8.433963e+07  0.000003   \n",
       "..                                                ...           ...       ...   \n",
       "61  [Married, Rating, Income, Student, Limit, Card...  3.798367e+06  0.954964   \n",
       "62  [Ethnicity_Caucasian, Rating, Income, Student,...  3.798730e+06  0.954959   \n",
       "63  [Education, Rating, Income, Student, Limit, Ca...  3.793418e+06  0.955022   \n",
       "64  [Ethnicity_Caucasian, Rating, Income, Student,...  3.791345e+06  0.955047   \n",
       "65  [Education, Rating, Income, Student, Limit, Ca...  3.786730e+06  0.955102   \n",
       "\n",
       "    n_features  \n",
       "0            1  \n",
       "1            1  \n",
       "2            1  \n",
       "3            1  \n",
       "4            1  \n",
       "..         ...  \n",
       "61           9  \n",
       "62           9  \n",
       "63          10  \n",
       "64          10  \n",
       "65          11  \n",
       "\n",
       "[66 rows x 4 columns]"
      ]
     },
     "execution_count": 54,
     "metadata": {},
     "output_type": "execute_result"
    }
   ],
   "source": [
    "from itertools import combinations\n",
    "\n",
    "l_model, l_rss, l_r2, l_n_features = [], [], [], []\n",
    "\n",
    "remaining_features = list(X.columns)\n",
    "included_features = []\n",
    "\n",
    "for k in range(1, X.shape[1]+1):\n",
    "    min_rss, max_r2, best_feature = np.inf, -np.inf, None\n",
    "    for subset in combinations(remaining_features, 1):\n",
    "        X_k = X[list(subset) + included_features]\n",
    "        RSS, R2 = model_fit(X_k, y)\n",
    "        if RSS < min_rss:\n",
    "            min_rss = RSS\n",
    "            max_r2 = R2\n",
    "            best_feature = subset[0]\n",
    "        l_model.append(X_k.columns.values)\n",
    "        l_rss.append(RSS)\n",
    "        l_r2.append(R2)\n",
    "        l_n_features.append(k)\n",
    "\n",
    "    included_features.append(best_feature)\n",
    "    remaining_features.remove(best_feature)\n",
    "    \n",
    "#     l_model.append(included_features.copy())\n",
    "#     l_rss.append(min_rss)\n",
    "#     l_r2.append(max_r2)\n",
    "#     l_n_features.append(k)\n",
    "    \n",
    "df = pd.DataFrame({'subset': l_model, 'rss': l_rss, 'r2': l_r2, 'n_features': l_n_features})\n",
    "df"
   ]
  },
  {
   "cell_type": "code",
   "execution_count": 55,
   "metadata": {},
   "outputs": [],
   "source": [
    "df_min_rss = df[df.groupby(by='n_features')['rss'].transform(min) == df['rss']]\n",
    "df_max_r2 = df[df.groupby(by='n_features')['r2'].transform(max) == df['r2']]"
   ]
  },
  {
   "cell_type": "code",
   "execution_count": null,
   "metadata": {},
   "outputs": [],
   "source": [
    "df_min_rss"
   ]
  },
  {
   "cell_type": "code",
   "execution_count": 56,
   "metadata": {},
   "outputs": [
    {
     "data": {
      "image/png": "[encoded data removed]",
      "text/plain": [
       "<Figure size 1152x576 with 2 Axes>"
      ]
     },
     "metadata": {},
     "output_type": "display_data"
    }
   ],
   "source": [
    "fig, ax = plt.subplots(1, 2, figsize=(16, 8))\n",
    "\n",
    "ax[0].plot(df_min_rss.n_features, df_min_rss.rss, color='r', marker='x')\n",
    "ax[0].scatter(df.n_features, df.rss)\n",
    "ax[0].set_xlabel('number features')\n",
    "ax[0].set_ylabel('RSS')\n",
    "ax[0].set_title(\"Forward Stepwise Selection - RSS\")\n",
    "\n",
    "ax[1].plot(df_max_r2.n_features, df_max_r2.r2, color='r', marker='x')\n",
    "ax[1].scatter(df.n_features, df.r2)\n",
    "ax[1].set_xlabel('number features')\n",
    "ax[1].set_ylabel('R2')\n",
    "ax[1].set_title(\"Forward Stepwise Selection - R2\")\n",
    "\n",
    "plt.show()"
   ]
  },
  {
   "cell_type": "markdown",
   "metadata": {},
   "source": [
    "## Backward stepwise selection"
   ]
  },
  {
   "cell_type": "code",
   "execution_count": 49,
   "metadata": {},
   "outputs": [
    {
     "data": {
      "text/html": [
       "<div>\n",
       "<style scoped>\n",
       "    .dataframe tbody tr th:only-of-type {\n",
       "        vertical-align: middle;\n",
       "    }\n",
       "\n",
       "    .dataframe tbody tr th {\n",
       "        vertical-align: top;\n",
       "    }\n",
       "\n",
       "    .dataframe thead th {\n",
       "        text-align: right;\n",
       "    }\n",
       "</style>\n",
       "<table border=\"1\" class=\"dataframe\">\n",
       "  <thead>\n",
       "    <tr style=\"text-align: right;\">\n",
       "      <th></th>\n",
       "      <th>subset</th>\n",
       "      <th>rss</th>\n",
       "      <th>r2</th>\n",
       "      <th>n_features</th>\n",
       "    </tr>\n",
       "  </thead>\n",
       "  <tbody>\n",
       "    <tr>\n",
       "      <th>0</th>\n",
       "      <td>[Limit, Rating, Cards, Age, Education, Gender,...</td>\n",
       "      <td>1.461789e+07</td>\n",
       "      <td>0.826679</td>\n",
       "      <td>10</td>\n",
       "    </tr>\n",
       "    <tr>\n",
       "      <th>1</th>\n",
       "      <td>[Rating, Cards, Age, Education, Gender, Studen...</td>\n",
       "      <td>4.117780e+06</td>\n",
       "      <td>0.951176</td>\n",
       "      <td>10</td>\n",
       "    </tr>\n",
       "    <tr>\n",
       "      <th>2</th>\n",
       "      <td>[Cards, Age, Education, Gender, Student, Marri...</td>\n",
       "      <td>3.839044e+06</td>\n",
       "      <td>0.954481</td>\n",
       "      <td>10</td>\n",
       "    </tr>\n",
       "    <tr>\n",
       "      <th>3</th>\n",
       "      <td>[Age, Education, Gender, Student, Married, Eth...</td>\n",
       "      <td>3.949432e+06</td>\n",
       "      <td>0.953172</td>\n",
       "      <td>10</td>\n",
       "    </tr>\n",
       "    <tr>\n",
       "      <th>4</th>\n",
       "      <td>[Education, Gender, Student, Married, Ethnicit...</td>\n",
       "      <td>3.829288e+06</td>\n",
       "      <td>0.954597</td>\n",
       "      <td>10</td>\n",
       "    </tr>\n",
       "    <tr>\n",
       "      <th>...</th>\n",
       "      <td>...</td>\n",
       "      <td>...</td>\n",
       "      <td>...</td>\n",
       "      <td>...</td>\n",
       "    </tr>\n",
       "    <tr>\n",
       "      <th>60</th>\n",
       "      <td>[Income, Limit]</td>\n",
       "      <td>1.087083e+07</td>\n",
       "      <td>0.871107</td>\n",
       "      <td>2</td>\n",
       "    </tr>\n",
       "    <tr>\n",
       "      <th>61</th>\n",
       "      <td>[Limit, Student]</td>\n",
       "      <td>1.582835e+07</td>\n",
       "      <td>0.812327</td>\n",
       "      <td>2</td>\n",
       "    </tr>\n",
       "    <tr>\n",
       "      <th>62</th>\n",
       "      <td>[Student, Income]</td>\n",
       "      <td>6.093905e+07</td>\n",
       "      <td>0.277459</td>\n",
       "      <td>2</td>\n",
       "    </tr>\n",
       "    <tr>\n",
       "      <th>63</th>\n",
       "      <td>[Limit]</td>\n",
       "      <td>2.171566e+07</td>\n",
       "      <td>0.742522</td>\n",
       "      <td>1</td>\n",
       "    </tr>\n",
       "    <tr>\n",
       "      <th>64</th>\n",
       "      <td>[Income]</td>\n",
       "      <td>6.620874e+07</td>\n",
       "      <td>0.214977</td>\n",
       "      <td>1</td>\n",
       "    </tr>\n",
       "  </tbody>\n",
       "</table>\n",
       "<p>65 rows × 4 columns</p>\n",
       "</div>"
      ],
      "text/plain": [
       "                                               subset           rss        r2  \\\n",
       "0   [Limit, Rating, Cards, Age, Education, Gender,...  1.461789e+07  0.826679   \n",
       "1   [Rating, Cards, Age, Education, Gender, Studen...  4.117780e+06  0.951176   \n",
       "2   [Cards, Age, Education, Gender, Student, Marri...  3.839044e+06  0.954481   \n",
       "3   [Age, Education, Gender, Student, Married, Eth...  3.949432e+06  0.953172   \n",
       "4   [Education, Gender, Student, Married, Ethnicit...  3.829288e+06  0.954597   \n",
       "..                                                ...           ...       ...   \n",
       "60                                    [Income, Limit]  1.087083e+07  0.871107   \n",
       "61                                   [Limit, Student]  1.582835e+07  0.812327   \n",
       "62                                  [Student, Income]  6.093905e+07  0.277459   \n",
       "63                                            [Limit]  2.171566e+07  0.742522   \n",
       "64                                           [Income]  6.620874e+07  0.214977   \n",
       "\n",
       "    n_features  \n",
       "0           10  \n",
       "1           10  \n",
       "2           10  \n",
       "3           10  \n",
       "4           10  \n",
       "..         ...  \n",
       "60           2  \n",
       "61           2  \n",
       "62           2  \n",
       "63           1  \n",
       "64           1  \n",
       "\n",
       "[65 rows x 4 columns]"
      ]
     },
     "execution_count": 49,
     "metadata": {},
     "output_type": "execute_result"
    }
   ],
   "source": [
    "from itertools import combinations\n",
    "\n",
    "l_model, l_rss, l_r2, l_n_features = [], [], [], []\n",
    "\n",
    "included_features = list(X.columns)\n",
    "p = X.shape[1]\n",
    "\n",
    "for k in range(p, 1, -1):\n",
    "    min_rss, max_r2, best_subset_k = np.inf, -np.inf, None\n",
    "    for subset in combinations(included_features, 1):\n",
    "        included_features.remove(subset[0])\n",
    "        X_k = X[included_features]\n",
    "        RSS, R2 = model_fit(X_k, y)\n",
    "        if RSS < min_rss:\n",
    "            min_rss = RSS\n",
    "            max_r2 = R2\n",
    "            best_subset_k = list(X_k.columns)\n",
    "        \n",
    "        l_model.append(X_k.columns.values)\n",
    "        l_rss.append(RSS)\n",
    "        l_r2.append(R2)\n",
    "        l_n_features.append(k-1)\n",
    "        \n",
    "        included_features.append(subset[0])\n",
    "        \n",
    "    included_features = best_subset_k.copy()\n",
    "\n",
    "df = pd.DataFrame({'subset': l_model, 'rss': l_rss, 'r2': l_r2, 'n_features': l_n_features})\n",
    "df"
   ]
  },
  {
   "cell_type": "code",
   "execution_count": 51,
   "metadata": {},
   "outputs": [],
   "source": [
    "df_min_rss = df[df.groupby(by='n_features')['rss'].transform(min) == df['rss']]\n",
    "df_max_r2 = df[df.groupby(by='n_features')['r2'].transform(max) == df['r2']]"
   ]
  },
  {
   "cell_type": "code",
   "execution_count": 53,
   "metadata": {},
   "outputs": [
    {
     "data": {
      "image/png": "[encoded data removed]",
      "text/plain": [
       "<Figure size 1152x576 with 2 Axes>"
      ]
     },
     "metadata": {},
     "output_type": "display_data"
    }
   ],
   "source": [
    "fig, ax = plt.subplots(1, 2, figsize=(16, 8))\n",
    "\n",
    "ax[0].plot(df_min_rss.n_features, df_min_rss.rss, color='r', marker='x')\n",
    "ax[0].scatter(df.n_features, df.rss)\n",
    "ax[0].set_xlabel('number features')\n",
    "ax[0].set_ylabel('RSS')\n",
    "ax[0].set_title(\"Backward Stepwise Selectio - RSS\")\n",
    "\n",
    "ax[1].plot(df_max_r2.n_features, df_max_r2.r2, color='r', marker='x')\n",
    "ax[1].scatter(df.n_features, df.r2)\n",
    "ax[1].set_xlabel('number features')\n",
    "ax[1].set_ylabel('R2')\n",
    "ax[1].set_title(\"Backward Stepwise Selection - R2\")\n",
    "\n",
    "plt.show()"
   ]
  },
  {
   "cell_type": "markdown",
   "metadata": {},
   "source": [
    "# Comparing models: AIC, BIC, Mallows'CP"
   ]
  },
  {
   "cell_type": "code",
   "execution_count": null,
   "metadata": {},
   "outputs": [],
   "source": []
  },
  {
   "cell_type": "code",
   "execution_count": 64,
   "metadata": {},
   "outputs": [],
   "source": [
    "df1 = df_min_rss.copy()\n",
    "n = len(y)\n",
    "p = X.shape[1]\n",
    "\n",
    "hat_sigma_squared = (1/(n - p -1)) * min(df1['rss'])\n",
    "\n",
    "# Computing\n",
    "df1['C_p'] = (1/n) * (df1['rss'] + 2 * df1['n_features'] * hat_sigma_squared )\n",
    "df1['AIC'] = (1/(n*hat_sigma_squared)) * (df1['rss'] + 2 * df1['n_features'] * hat_sigma_squared )\n",
    "df1['BIC'] = (1/(n*hat_sigma_squared)) * (df1['rss'] +  np.log(n) * df1['n_features'] * hat_sigma_squared )\n",
    "df1['R_squared_adj'] = 1 - ( (1 - df1['r2'])*(n-1)/(n-df1['n_features'] -1))"
   ]
  },
  {
   "cell_type": "code",
   "execution_count": 65,
   "metadata": {},
   "outputs": [
    {
     "data": {
      "image/png": "[encoded data removed]",
      "text/plain": [
       "<Figure size 1440x432 with 4 Axes>"
      ]
     },
     "metadata": {},
     "output_type": "display_data"
    }
   ],
   "source": [
    "variables = ['C_p', 'AIC','BIC','R_squared_adj']\n",
    "\n",
    "fig, ax = plt.subplots(1, 4, figsize = (20,6))\n",
    "for i,v in enumerate(variables):\n",
    "    ax[i].plot(df1['n_features'], df1[v], marker='o', color='r')\n",
    "    ax[i].scatter(df1['n_features'], df1[v], marker='o')\n",
    "    if v == 'R_squared_adj':\n",
    "        idx_max = df1[v].idxmax()\n",
    "        ax[i].plot(df1['n_features'][idx_max], df1[v][idx_max], marker='x', markersize=25)\n",
    "    else:\n",
    "        idx_min = df1[v].idxmin()\n",
    "        ax[i].plot(df1['n_features'][idx_min], df1[v][idx_min], marker='x', markersize=25)\n",
    "\n",
    "    ax[i].set_xlabel('Number of Predictors')\n",
    "    ax[i].set_ylabel(v)\n",
    "\n",
    "fig.suptitle('Subset selection using C_p, AIC, BIC, Adjusted R2', fontsize = 16)\n",
    "plt.show()"
   ]
  },
  {
   "cell_type": "markdown",
   "metadata": {},
   "source": [
    "# Ridge Regression"
   ]
  },
  {
   "cell_type": "code",
   "execution_count": 100,
   "metadata": {},
   "outputs": [],
   "source": [
    "# credit = get_credit_data()\n",
    "X = credit.iloc[:, 0:(credit.shape[1]-1)]\n",
    "y = credit.iloc[:, credit.shape[1]-1]"
   ]
  },
  {
   "cell_type": "markdown",
   "metadata": {},
   "source": [
    "## Standarize the feature matrix"
   ]
  },
  {
   "cell_type": "code",
   "execution_count": 101,
   "metadata": {},
   "outputs": [],
   "source": [
    "from sklearn.preprocessing import StandardScaler\n",
    "scaler = StandardScaler().fit(X)\n",
    "X = pd.DataFrame(scaler.fit_transform(X), columns=X.columns)"
   ]
  },
  {
   "cell_type": "code",
   "execution_count": 102,
   "metadata": {},
   "outputs": [
    {
     "data": {
      "text/html": [
       "<div>\n",
       "<style scoped>\n",
       "    .dataframe tbody tr th:only-of-type {\n",
       "        vertical-align: middle;\n",
       "    }\n",
       "\n",
       "    .dataframe tbody tr th {\n",
       "        vertical-align: top;\n",
       "    }\n",
       "\n",
       "    .dataframe thead th {\n",
       "        text-align: right;\n",
       "    }\n",
       "</style>\n",
       "<table border=\"1\" class=\"dataframe\">\n",
       "  <thead>\n",
       "    <tr style=\"text-align: right;\">\n",
       "      <th></th>\n",
       "      <th>Income</th>\n",
       "      <th>Limit</th>\n",
       "      <th>Rating</th>\n",
       "      <th>Cards</th>\n",
       "      <th>Age</th>\n",
       "      <th>Education</th>\n",
       "      <th>Gender</th>\n",
       "      <th>Student</th>\n",
       "      <th>Married</th>\n",
       "      <th>Ethnicity_Asian</th>\n",
       "      <th>Ethnicity_Caucasian</th>\n",
       "    </tr>\n",
       "  </thead>\n",
       "  <tbody>\n",
       "    <tr>\n",
       "      <th>0</th>\n",
       "      <td>-0.861583</td>\n",
       "      <td>-0.489999</td>\n",
       "      <td>-0.465539</td>\n",
       "      <td>-0.699130</td>\n",
       "      <td>-1.257674</td>\n",
       "      <td>-0.784930</td>\n",
       "      <td>-1.035635</td>\n",
       "      <td>-0.333333</td>\n",
       "      <td>-0.795395</td>\n",
       "      <td>-0.585049</td>\n",
       "      <td>1.005013</td>\n",
       "    </tr>\n",
       "    <tr>\n",
       "      <th>1</th>\n",
       "      <td>1.727437</td>\n",
       "      <td>0.828261</td>\n",
       "      <td>0.828703</td>\n",
       "      <td>0.031032</td>\n",
       "      <td>1.528451</td>\n",
       "      <td>0.496588</td>\n",
       "      <td>0.965592</td>\n",
       "      <td>3.000000</td>\n",
       "      <td>-0.795395</td>\n",
       "      <td>1.709260</td>\n",
       "      <td>-0.995012</td>\n",
       "    </tr>\n",
       "    <tr>\n",
       "      <th>2</th>\n",
       "      <td>1.686756</td>\n",
       "      <td>1.014787</td>\n",
       "      <td>1.029311</td>\n",
       "      <td>0.761194</td>\n",
       "      <td>0.889964</td>\n",
       "      <td>-0.784930</td>\n",
       "      <td>-1.035635</td>\n",
       "      <td>-0.333333</td>\n",
       "      <td>1.257237</td>\n",
       "      <td>1.709260</td>\n",
       "      <td>-0.995012</td>\n",
       "    </tr>\n",
       "    <tr>\n",
       "      <th>3</th>\n",
       "      <td>2.946152</td>\n",
       "      <td>2.068440</td>\n",
       "      <td>2.110003</td>\n",
       "      <td>0.031032</td>\n",
       "      <td>-1.141586</td>\n",
       "      <td>-0.784930</td>\n",
       "      <td>0.965592</td>\n",
       "      <td>-0.333333</td>\n",
       "      <td>1.257237</td>\n",
       "      <td>1.709260</td>\n",
       "      <td>-0.995012</td>\n",
       "    </tr>\n",
       "    <tr>\n",
       "      <th>4</th>\n",
       "      <td>0.302928</td>\n",
       "      <td>0.070012</td>\n",
       "      <td>0.013331</td>\n",
       "      <td>-0.699130</td>\n",
       "      <td>0.715831</td>\n",
       "      <td>0.816968</td>\n",
       "      <td>-1.035635</td>\n",
       "      <td>-0.333333</td>\n",
       "      <td>-0.795395</td>\n",
       "      <td>-0.585049</td>\n",
       "      <td>1.005013</td>\n",
       "    </tr>\n",
       "  </tbody>\n",
       "</table>\n",
       "</div>"
      ],
      "text/plain": [
       "     Income     Limit    Rating     Cards       Age  Education    Gender  \\\n",
       "0 -0.861583 -0.489999 -0.465539 -0.699130 -1.257674  -0.784930 -1.035635   \n",
       "1  1.727437  0.828261  0.828703  0.031032  1.528451   0.496588  0.965592   \n",
       "2  1.686756  1.014787  1.029311  0.761194  0.889964  -0.784930 -1.035635   \n",
       "3  2.946152  2.068440  2.110003  0.031032 -1.141586  -0.784930  0.965592   \n",
       "4  0.302928  0.070012  0.013331 -0.699130  0.715831   0.816968 -1.035635   \n",
       "\n",
       "    Student   Married  Ethnicity_Asian  Ethnicity_Caucasian  \n",
       "0 -0.333333 -0.795395        -0.585049             1.005013  \n",
       "1  3.000000 -0.795395         1.709260            -0.995012  \n",
       "2 -0.333333  1.257237         1.709260            -0.995012  \n",
       "3 -0.333333  1.257237         1.709260            -0.995012  \n",
       "4 -0.333333 -0.795395        -0.585049             1.005013  "
      ]
     },
     "execution_count": 102,
     "metadata": {},
     "output_type": "execute_result"
    }
   ],
   "source": [
    "X.head()"
   ]
  },
  {
   "cell_type": "markdown",
   "metadata": {},
   "source": [
    "## Perform ridge regression on standarized data using default $\\lambda = 1.0$"
   ]
  },
  {
   "cell_type": "code",
   "execution_count": 103,
   "metadata": {},
   "outputs": [
    {
     "name": "stdout",
     "output_type": "stream",
     "text": [
      "alpha= 1.0\n",
      "coefficients= [-271.27181809  367.16879622  245.25866833   21.33059812  -10.89650917\n",
      "   -3.01362181   -5.22288527  126.86417618    4.71833482    7.60073898\n",
      "    5.08311489]\n"
     ]
    }
   ],
   "source": [
    "from sklearn.linear_model import Ridge\n",
    "model = Ridge()\n",
    "model.fit(X, y)\n",
    "print('alpha=', model.alpha)\n",
    "print('coefficients=', model.coef_)"
   ]
  },
  {
   "cell_type": "code",
   "execution_count": 104,
   "metadata": {},
   "outputs": [
    {
     "data": {
      "text/plain": [
       "[1, 2, 5, 10, 20, 50, 100, 200, 500, 1000, 2000, 5000]"
      ]
     },
     "execution_count": 104,
     "metadata": {},
     "output_type": "execute_result"
    }
   ],
   "source": [
    "from sklearn.linear_model import Ridge\n",
    "\n",
    "alphas = []\n",
    "base = [1, 2, 5]\n",
    "for m in [1, 10, 100, 1000]:\n",
    "    for v in base:\n",
    "        alphas.append(m*v)\n",
    "alphas"
   ]
  },
  {
   "cell_type": "code",
   "execution_count": 160,
   "metadata": {},
   "outputs": [],
   "source": [
    "from sklearn.linear_model import Ridge\n",
    "coef = {}\n",
    "alphas = [1, 2, 5, 10, 20, 50, 100, 200, 500, 1000, 2000, 5000]\n",
    "for a in alphas:\n",
    "    model = Ridge(alpha=a)\n",
    "    model.fit(X, y)\n",
    "    coef[a] = model.coef_"
   ]
  },
  {
   "cell_type": "code",
   "execution_count": 162,
   "metadata": {},
   "outputs": [
    {
     "data": {
      "text/html": [
       "<div>\n",
       "<style scoped>\n",
       "    .dataframe tbody tr th:only-of-type {\n",
       "        vertical-align: middle;\n",
       "    }\n",
       "\n",
       "    .dataframe tbody tr th {\n",
       "        vertical-align: top;\n",
       "    }\n",
       "\n",
       "    .dataframe thead th {\n",
       "        text-align: right;\n",
       "    }\n",
       "</style>\n",
       "<table border=\"1\" class=\"dataframe\">\n",
       "  <thead>\n",
       "    <tr style=\"text-align: right;\">\n",
       "      <th></th>\n",
       "      <th>Income</th>\n",
       "      <th>Limit</th>\n",
       "      <th>Rating</th>\n",
       "      <th>Cards</th>\n",
       "      <th>Age</th>\n",
       "      <th>Education</th>\n",
       "      <th>Gender</th>\n",
       "      <th>Student</th>\n",
       "      <th>Married</th>\n",
       "      <th>Ethnicity_Asian</th>\n",
       "      <th>Ethnicity_Caucasian</th>\n",
       "    </tr>\n",
       "  </thead>\n",
       "  <tbody>\n",
       "    <tr>\n",
       "      <th>1</th>\n",
       "      <td>-271.271818</td>\n",
       "      <td>367.168796</td>\n",
       "      <td>245.258668</td>\n",
       "      <td>21.330598</td>\n",
       "      <td>-10.896509</td>\n",
       "      <td>-3.013622</td>\n",
       "      <td>-5.222885</td>\n",
       "      <td>126.864176</td>\n",
       "      <td>4.718335</td>\n",
       "      <td>7.600739</td>\n",
       "      <td>5.083115</td>\n",
       "    </tr>\n",
       "    <tr>\n",
       "      <th>2</th>\n",
       "      <td>-267.820742</td>\n",
       "      <td>344.135630</td>\n",
       "      <td>264.858362</td>\n",
       "      <td>20.542444</td>\n",
       "      <td>-11.167329</td>\n",
       "      <td>-2.853968</td>\n",
       "      <td>-5.115300</td>\n",
       "      <td>126.320730</td>\n",
       "      <td>4.911896</td>\n",
       "      <td>7.625266</td>\n",
       "      <td>5.081053</td>\n",
       "    </tr>\n",
       "    <tr>\n",
       "      <th>5</th>\n",
       "      <td>-257.754731</td>\n",
       "      <td>318.816665</td>\n",
       "      <td>280.064346</td>\n",
       "      <td>20.042720</td>\n",
       "      <td>-11.901108</td>\n",
       "      <td>-2.604807</td>\n",
       "      <td>-4.797358</td>\n",
       "      <td>124.986755</td>\n",
       "      <td>5.165389</td>\n",
       "      <td>7.485973</td>\n",
       "      <td>5.046388</td>\n",
       "    </tr>\n",
       "    <tr>\n",
       "      <th>10</th>\n",
       "      <td>-242.124545</td>\n",
       "      <td>301.986087</td>\n",
       "      <td>281.045146</td>\n",
       "      <td>20.211677</td>\n",
       "      <td>-12.974819</td>\n",
       "      <td>-2.336418</td>\n",
       "      <td>-4.302776</td>\n",
       "      <td>122.991272</td>\n",
       "      <td>5.383855</td>\n",
       "      <td>7.154613</td>\n",
       "      <td>4.970533</td>\n",
       "    </tr>\n",
       "    <tr>\n",
       "      <th>20</th>\n",
       "      <td>-214.703670</td>\n",
       "      <td>282.838796</td>\n",
       "      <td>271.986829</td>\n",
       "      <td>20.871395</td>\n",
       "      <td>-14.706748</td>\n",
       "      <td>-1.927976</td>\n",
       "      <td>-3.439553</td>\n",
       "      <td>119.321863</td>\n",
       "      <td>5.658537</td>\n",
       "      <td>6.514256</td>\n",
       "      <td>4.805257</td>\n",
       "    </tr>\n",
       "    <tr>\n",
       "      <th>50</th>\n",
       "      <td>-154.346486</td>\n",
       "      <td>247.280852</td>\n",
       "      <td>243.074587</td>\n",
       "      <td>22.123252</td>\n",
       "      <td>-17.702952</td>\n",
       "      <td>-1.116100</td>\n",
       "      <td>-1.575375</td>\n",
       "      <td>109.901290</td>\n",
       "      <td>6.027813</td>\n",
       "      <td>5.035992</td>\n",
       "      <td>4.298668</td>\n",
       "    </tr>\n",
       "    <tr>\n",
       "      <th>100</th>\n",
       "      <td>-94.597784</td>\n",
       "      <td>211.391442</td>\n",
       "      <td>209.601376</td>\n",
       "      <td>22.356504</td>\n",
       "      <td>-19.035029</td>\n",
       "      <td>-0.423652</td>\n",
       "      <td>0.179193</td>\n",
       "      <td>97.638749</td>\n",
       "      <td>6.011495</td>\n",
       "      <td>3.512579</td>\n",
       "      <td>3.544476</td>\n",
       "    </tr>\n",
       "    <tr>\n",
       "      <th>200</th>\n",
       "      <td>-37.294613</td>\n",
       "      <td>171.427463</td>\n",
       "      <td>170.875244</td>\n",
       "      <td>20.676255</td>\n",
       "      <td>-17.539115</td>\n",
       "      <td>0.054173</td>\n",
       "      <td>1.658089</td>\n",
       "      <td>80.380279</td>\n",
       "      <td>5.344906</td>\n",
       "      <td>1.973135</td>\n",
       "      <td>2.454234</td>\n",
       "    </tr>\n",
       "    <tr>\n",
       "      <th>500</th>\n",
       "      <td>11.048906</td>\n",
       "      <td>119.576160</td>\n",
       "      <td>119.635204</td>\n",
       "      <td>15.198983</td>\n",
       "      <td>-11.023567</td>\n",
       "      <td>0.098160</td>\n",
       "      <td>2.356604</td>\n",
       "      <td>53.052543</td>\n",
       "      <td>3.459937</td>\n",
       "      <td>0.487726</td>\n",
       "      <td>0.975622</td>\n",
       "    </tr>\n",
       "    <tr>\n",
       "      <th>1000</th>\n",
       "      <td>22.934668</td>\n",
       "      <td>84.077157</td>\n",
       "      <td>84.216136</td>\n",
       "      <td>10.266370</td>\n",
       "      <td>-5.694470</td>\n",
       "      <td>-0.096124</td>\n",
       "      <td>1.994611</td>\n",
       "      <td>34.007392</td>\n",
       "      <td>1.957909</td>\n",
       "      <td>-0.080998</td>\n",
       "      <td>0.279720</td>\n",
       "    </tr>\n",
       "    <tr>\n",
       "      <th>2000</th>\n",
       "      <td>21.198506</td>\n",
       "      <td>54.176010</td>\n",
       "      <td>54.288526</td>\n",
       "      <td>6.211927</td>\n",
       "      <td>-2.284155</td>\n",
       "      <td>-0.207632</td>\n",
       "      <td>1.362192</td>\n",
       "      <td>19.822184</td>\n",
       "      <td>0.934663</td>\n",
       "      <td>-0.268422</td>\n",
       "      <td>-0.002697</td>\n",
       "    </tr>\n",
       "    <tr>\n",
       "      <th>5000</th>\n",
       "      <td>12.644862</td>\n",
       "      <td>26.603548</td>\n",
       "      <td>26.662561</td>\n",
       "      <td>2.851459</td>\n",
       "      <td>-0.496789</td>\n",
       "      <td>-0.176769</td>\n",
       "      <td>0.674017</td>\n",
       "      <td>8.809115</td>\n",
       "      <td>0.309232</td>\n",
       "      <td>-0.222524</td>\n",
       "      <td>-0.061850</td>\n",
       "    </tr>\n",
       "  </tbody>\n",
       "</table>\n",
       "</div>"
      ],
      "text/plain": [
       "          Income       Limit      Rating      Cards        Age  Education  \\\n",
       "1    -271.271818  367.168796  245.258668  21.330598 -10.896509  -3.013622   \n",
       "2    -267.820742  344.135630  264.858362  20.542444 -11.167329  -2.853968   \n",
       "5    -257.754731  318.816665  280.064346  20.042720 -11.901108  -2.604807   \n",
       "10   -242.124545  301.986087  281.045146  20.211677 -12.974819  -2.336418   \n",
       "20   -214.703670  282.838796  271.986829  20.871395 -14.706748  -1.927976   \n",
       "50   -154.346486  247.280852  243.074587  22.123252 -17.702952  -1.116100   \n",
       "100   -94.597784  211.391442  209.601376  22.356504 -19.035029  -0.423652   \n",
       "200   -37.294613  171.427463  170.875244  20.676255 -17.539115   0.054173   \n",
       "500    11.048906  119.576160  119.635204  15.198983 -11.023567   0.098160   \n",
       "1000   22.934668   84.077157   84.216136  10.266370  -5.694470  -0.096124   \n",
       "2000   21.198506   54.176010   54.288526   6.211927  -2.284155  -0.207632   \n",
       "5000   12.644862   26.603548   26.662561   2.851459  -0.496789  -0.176769   \n",
       "\n",
       "        Gender     Student   Married  Ethnicity_Asian  Ethnicity_Caucasian  \n",
       "1    -5.222885  126.864176  4.718335         7.600739             5.083115  \n",
       "2    -5.115300  126.320730  4.911896         7.625266             5.081053  \n",
       "5    -4.797358  124.986755  5.165389         7.485973             5.046388  \n",
       "10   -4.302776  122.991272  5.383855         7.154613             4.970533  \n",
       "20   -3.439553  119.321863  5.658537         6.514256             4.805257  \n",
       "50   -1.575375  109.901290  6.027813         5.035992             4.298668  \n",
       "100   0.179193   97.638749  6.011495         3.512579             3.544476  \n",
       "200   1.658089   80.380279  5.344906         1.973135             2.454234  \n",
       "500   2.356604   53.052543  3.459937         0.487726             0.975622  \n",
       "1000  1.994611   34.007392  1.957909        -0.080998             0.279720  \n",
       "2000  1.362192   19.822184  0.934663        -0.268422            -0.002697  \n",
       "5000  0.674017    8.809115  0.309232        -0.222524            -0.061850  "
      ]
     },
     "execution_count": 162,
     "metadata": {},
     "output_type": "execute_result"
    }
   ],
   "source": [
    "df_coef = pd.DataFrame(coef).T\n",
    "df_coef.columns = X.columns\n",
    "df_coef"
   ]
  },
  {
   "cell_type": "code",
   "execution_count": 146,
   "metadata": {},
   "outputs": [
    {
     "data": {
      "text/plain": [
       "563.1411959775545"
      ]
     },
     "execution_count": 146,
     "metadata": {},
     "output_type": "execute_result"
    }
   ],
   "source": [
    "from sklearn.linear_model import LinearRegression\n",
    "model = LinearRegression(fit_intercept=True)\n",
    "model.fit(X, y)\n",
    "model.coef_\n",
    "beta_l2 = np.sqrt(np.sum(model.coef_ * model.coef_))\n",
    "beta_l2"
   ]
  },
  {
   "cell_type": "code",
   "execution_count": 147,
   "metadata": {},
   "outputs": [],
   "source": [
    "df_coef_2 = df_coef.copy()"
   ]
  },
  {
   "cell_type": "code",
   "execution_count": 148,
   "metadata": {},
   "outputs": [
    {
     "data": {
      "text/html": [
       "<div>\n",
       "<style scoped>\n",
       "    .dataframe tbody tr th:only-of-type {\n",
       "        vertical-align: middle;\n",
       "    }\n",
       "\n",
       "    .dataframe tbody tr th {\n",
       "        vertical-align: top;\n",
       "    }\n",
       "\n",
       "    .dataframe thead th {\n",
       "        text-align: right;\n",
       "    }\n",
       "</style>\n",
       "<table border=\"1\" class=\"dataframe\">\n",
       "  <thead>\n",
       "    <tr style=\"text-align: right;\">\n",
       "      <th></th>\n",
       "      <th>Income</th>\n",
       "      <th>Limit</th>\n",
       "      <th>Rating</th>\n",
       "      <th>Cards</th>\n",
       "      <th>Age</th>\n",
       "      <th>Education</th>\n",
       "      <th>Gender</th>\n",
       "      <th>Student</th>\n",
       "      <th>Married</th>\n",
       "      <th>Ethnicity_Asian</th>\n",
       "      <th>Ethnicity_Caucasian</th>\n",
       "      <th>beta_ratio</th>\n",
       "    </tr>\n",
       "  </thead>\n",
       "  <tbody>\n",
       "    <tr>\n",
       "      <th>1</th>\n",
       "      <td>-271.271818</td>\n",
       "      <td>367.168796</td>\n",
       "      <td>245.258668</td>\n",
       "      <td>21.330598</td>\n",
       "      <td>-10.896509</td>\n",
       "      <td>-3.013622</td>\n",
       "      <td>-5.222885</td>\n",
       "      <td>126.864176</td>\n",
       "      <td>4.718335</td>\n",
       "      <td>7.600739</td>\n",
       "      <td>5.083115</td>\n",
       "      <td>0.948598</td>\n",
       "    </tr>\n",
       "    <tr>\n",
       "      <th>2</th>\n",
       "      <td>-267.820742</td>\n",
       "      <td>344.135630</td>\n",
       "      <td>264.858362</td>\n",
       "      <td>20.542444</td>\n",
       "      <td>-11.167329</td>\n",
       "      <td>-2.853968</td>\n",
       "      <td>-5.115300</td>\n",
       "      <td>126.320730</td>\n",
       "      <td>4.911896</td>\n",
       "      <td>7.625266</td>\n",
       "      <td>5.081053</td>\n",
       "      <td>0.934514</td>\n",
       "    </tr>\n",
       "    <tr>\n",
       "      <th>5</th>\n",
       "      <td>-257.754731</td>\n",
       "      <td>318.816665</td>\n",
       "      <td>280.064346</td>\n",
       "      <td>20.042720</td>\n",
       "      <td>-11.901108</td>\n",
       "      <td>-2.604807</td>\n",
       "      <td>-4.797358</td>\n",
       "      <td>124.986755</td>\n",
       "      <td>5.165389</td>\n",
       "      <td>7.485973</td>\n",
       "      <td>5.046388</td>\n",
       "      <td>0.910358</td>\n",
       "    </tr>\n",
       "    <tr>\n",
       "      <th>10</th>\n",
       "      <td>-242.124545</td>\n",
       "      <td>301.986087</td>\n",
       "      <td>281.045146</td>\n",
       "      <td>20.211677</td>\n",
       "      <td>-12.974819</td>\n",
       "      <td>-2.336418</td>\n",
       "      <td>-4.302776</td>\n",
       "      <td>122.991272</td>\n",
       "      <td>5.383855</td>\n",
       "      <td>7.154613</td>\n",
       "      <td>4.970533</td>\n",
       "      <td>0.878305</td>\n",
       "    </tr>\n",
       "    <tr>\n",
       "      <th>20</th>\n",
       "      <td>-214.703670</td>\n",
       "      <td>282.838796</td>\n",
       "      <td>271.986829</td>\n",
       "      <td>20.871395</td>\n",
       "      <td>-14.706748</td>\n",
       "      <td>-1.927976</td>\n",
       "      <td>-3.439553</td>\n",
       "      <td>119.321863</td>\n",
       "      <td>5.658537</td>\n",
       "      <td>6.514256</td>\n",
       "      <td>4.805257</td>\n",
       "      <td>0.823527</td>\n",
       "    </tr>\n",
       "    <tr>\n",
       "      <th>50</th>\n",
       "      <td>-154.346486</td>\n",
       "      <td>247.280852</td>\n",
       "      <td>243.074587</td>\n",
       "      <td>22.123252</td>\n",
       "      <td>-17.702952</td>\n",
       "      <td>-1.116100</td>\n",
       "      <td>-1.575375</td>\n",
       "      <td>109.901290</td>\n",
       "      <td>6.027813</td>\n",
       "      <td>5.035992</td>\n",
       "      <td>4.298668</td>\n",
       "      <td>0.703658</td>\n",
       "    </tr>\n",
       "    <tr>\n",
       "      <th>100</th>\n",
       "      <td>-94.597784</td>\n",
       "      <td>211.391442</td>\n",
       "      <td>209.601376</td>\n",
       "      <td>22.356504</td>\n",
       "      <td>-19.035029</td>\n",
       "      <td>-0.423652</td>\n",
       "      <td>0.179193</td>\n",
       "      <td>97.638749</td>\n",
       "      <td>6.011495</td>\n",
       "      <td>3.512579</td>\n",
       "      <td>3.544476</td>\n",
       "      <td>0.583638</td>\n",
       "    </tr>\n",
       "    <tr>\n",
       "      <th>200</th>\n",
       "      <td>-37.294613</td>\n",
       "      <td>171.427463</td>\n",
       "      <td>170.875244</td>\n",
       "      <td>20.676255</td>\n",
       "      <td>-17.539115</td>\n",
       "      <td>0.054173</td>\n",
       "      <td>1.658089</td>\n",
       "      <td>80.380279</td>\n",
       "      <td>5.344906</td>\n",
       "      <td>1.973135</td>\n",
       "      <td>2.454234</td>\n",
       "      <td>0.460376</td>\n",
       "    </tr>\n",
       "    <tr>\n",
       "      <th>500</th>\n",
       "      <td>11.048906</td>\n",
       "      <td>119.576160</td>\n",
       "      <td>119.635204</td>\n",
       "      <td>15.198983</td>\n",
       "      <td>-11.023567</td>\n",
       "      <td>0.098160</td>\n",
       "      <td>2.356604</td>\n",
       "      <td>53.052543</td>\n",
       "      <td>3.459937</td>\n",
       "      <td>0.487726</td>\n",
       "      <td>0.975622</td>\n",
       "      <td>0.317254</td>\n",
       "    </tr>\n",
       "    <tr>\n",
       "      <th>1000</th>\n",
       "      <td>22.934668</td>\n",
       "      <td>84.077157</td>\n",
       "      <td>84.216136</td>\n",
       "      <td>10.266370</td>\n",
       "      <td>-5.694470</td>\n",
       "      <td>-0.096124</td>\n",
       "      <td>1.994611</td>\n",
       "      <td>34.007392</td>\n",
       "      <td>1.957909</td>\n",
       "      <td>-0.080998</td>\n",
       "      <td>0.279720</td>\n",
       "      <td>0.224544</td>\n",
       "    </tr>\n",
       "    <tr>\n",
       "      <th>2000</th>\n",
       "      <td>21.198506</td>\n",
       "      <td>54.176010</td>\n",
       "      <td>54.288526</td>\n",
       "      <td>6.211927</td>\n",
       "      <td>-2.284155</td>\n",
       "      <td>-0.207632</td>\n",
       "      <td>1.362192</td>\n",
       "      <td>19.822184</td>\n",
       "      <td>0.934663</td>\n",
       "      <td>-0.268422</td>\n",
       "      <td>-0.002697</td>\n",
       "      <td>0.146122</td>\n",
       "    </tr>\n",
       "    <tr>\n",
       "      <th>5000</th>\n",
       "      <td>12.644862</td>\n",
       "      <td>26.603548</td>\n",
       "      <td>26.662561</td>\n",
       "      <td>2.851459</td>\n",
       "      <td>-0.496789</td>\n",
       "      <td>-0.176769</td>\n",
       "      <td>0.674017</td>\n",
       "      <td>8.809115</td>\n",
       "      <td>0.309232</td>\n",
       "      <td>-0.222524</td>\n",
       "      <td>-0.061850</td>\n",
       "      <td>0.072462</td>\n",
       "    </tr>\n",
       "  </tbody>\n",
       "</table>\n",
       "</div>"
      ],
      "text/plain": [
       "          Income       Limit      Rating      Cards        Age  Education  \\\n",
       "1    -271.271818  367.168796  245.258668  21.330598 -10.896509  -3.013622   \n",
       "2    -267.820742  344.135630  264.858362  20.542444 -11.167329  -2.853968   \n",
       "5    -257.754731  318.816665  280.064346  20.042720 -11.901108  -2.604807   \n",
       "10   -242.124545  301.986087  281.045146  20.211677 -12.974819  -2.336418   \n",
       "20   -214.703670  282.838796  271.986829  20.871395 -14.706748  -1.927976   \n",
       "50   -154.346486  247.280852  243.074587  22.123252 -17.702952  -1.116100   \n",
       "100   -94.597784  211.391442  209.601376  22.356504 -19.035029  -0.423652   \n",
       "200   -37.294613  171.427463  170.875244  20.676255 -17.539115   0.054173   \n",
       "500    11.048906  119.576160  119.635204  15.198983 -11.023567   0.098160   \n",
       "1000   22.934668   84.077157   84.216136  10.266370  -5.694470  -0.096124   \n",
       "2000   21.198506   54.176010   54.288526   6.211927  -2.284155  -0.207632   \n",
       "5000   12.644862   26.603548   26.662561   2.851459  -0.496789  -0.176769   \n",
       "\n",
       "        Gender     Student   Married  Ethnicity_Asian  Ethnicity_Caucasian  \\\n",
       "1    -5.222885  126.864176  4.718335         7.600739             5.083115   \n",
       "2    -5.115300  126.320730  4.911896         7.625266             5.081053   \n",
       "5    -4.797358  124.986755  5.165389         7.485973             5.046388   \n",
       "10   -4.302776  122.991272  5.383855         7.154613             4.970533   \n",
       "20   -3.439553  119.321863  5.658537         6.514256             4.805257   \n",
       "50   -1.575375  109.901290  6.027813         5.035992             4.298668   \n",
       "100   0.179193   97.638749  6.011495         3.512579             3.544476   \n",
       "200   1.658089   80.380279  5.344906         1.973135             2.454234   \n",
       "500   2.356604   53.052543  3.459937         0.487726             0.975622   \n",
       "1000  1.994611   34.007392  1.957909        -0.080998             0.279720   \n",
       "2000  1.362192   19.822184  0.934663        -0.268422            -0.002697   \n",
       "5000  0.674017    8.809115  0.309232        -0.222524            -0.061850   \n",
       "\n",
       "      beta_ratio  \n",
       "1       0.948598  \n",
       "2       0.934514  \n",
       "5       0.910358  \n",
       "10      0.878305  \n",
       "20      0.823527  \n",
       "50      0.703658  \n",
       "100     0.583638  \n",
       "200     0.460376  \n",
       "500     0.317254  \n",
       "1000    0.224544  \n",
       "2000    0.146122  \n",
       "5000    0.072462  "
      ]
     },
     "execution_count": 148,
     "metadata": {},
     "output_type": "execute_result"
    }
   ],
   "source": [
    "df_coef_2 = df_coef.copy()\n",
    "coef_l2 = df_coef_2 * df_coef_2\n",
    "df_coef_2['beta_ratio'] = np.sqrt(coef_l2.sum(axis=1))/beta_l2\n",
    "df_coef_2"
   ]
  },
  {
   "cell_type": "code",
   "execution_count": 159,
   "metadata": {},
   "outputs": [
    {
     "data": {
      "image/png": "[encoded data removed]",
      "text/plain": [
       "<Figure size 1152x576 with 2 Axes>"
      ]
     },
     "metadata": {},
     "output_type": "display_data"
    }
   ],
   "source": [
    "fig, ax = plt.subplots(1, 2, figsize=(16, 8))\n",
    "for col in ['Income', 'Limit', 'Rating', 'Student']:\n",
    "    sns.lineplot(x=df_coef.index, y=df_coef[col], label=col, ax=ax[0])\n",
    "ax[0].set_xlim(1, 5000)\n",
    "ax[0].axhline(0, color='b')\n",
    "ax[0].set_xscale(\"log\")\n",
    "ax[0].set_xlabel(\"$\\lambda$\")\n",
    "ax[0].set_ylabel('Coefficient')\n",
    "\n",
    "\n",
    "# sns.lineplot(x='beta_ratio', y='Income', 'Limit', 'Rating', \"Student\"], data=df_coef_2, ax=ax[1])\n",
    "for col in ['Income', 'Limit', 'Rating', 'Student']:\n",
    "    sns.lineplot(x='beta_ratio', y=col, label = col, data=df_coef_2, ax=ax[1])\n",
    "ax[1].set_xlim(0.0, 1.0)\n",
    "ax[1].axhline(0, color='b')\n",
    "ax[1].set_ylabel('Coefficient')\n",
    "\n",
    "plt.show()"
   ]
  },
  {
   "cell_type": "markdown",
   "metadata": {},
   "source": [
    "# Ridge CV"
   ]
  },
  {
   "cell_type": "code",
   "execution_count": 171,
   "metadata": {},
   "outputs": [],
   "source": [
    "from sklearn.linear_model import RidgeCV\n",
    "ridgecv = RidgeCV(scoring='neg_mean_squared_error')\n",
    "_ = ridgecv.fit(X, y)"
   ]
  },
  {
   "cell_type": "code",
   "execution_count": 172,
   "metadata": {},
   "outputs": [
    {
     "data": {
      "text/plain": [
       "(0.3289666123287841, -10064.646314652906)"
      ]
     },
     "execution_count": 172,
     "metadata": {},
     "output_type": "execute_result"
    }
   ],
   "source": [
    "ridgecv.alpha_, ridgecv.best_score_"
   ]
  },
  {
   "cell_type": "markdown",
   "metadata": {},
   "source": [
    "# The Lasso"
   ]
  },
  {
   "cell_type": "code",
   "execution_count": 176,
   "metadata": {},
   "outputs": [],
   "source": [
    "from sklearn.linear_model import Lasso, LarsCV\n",
    "\n",
    "coef = {}\n",
    "alphas = [1, 2, 5, 10, 20, 50, 100, 200, 500, 1000, 2000, 5000]\n",
    "for a in alphas:\n",
    "    model = Lasso(alpha=a)\n",
    "    model.fit(X, y)\n",
    "    coef[a] = model.coef_"
   ]
  },
  {
   "cell_type": "code",
   "execution_count": 180,
   "metadata": {},
   "outputs": [],
   "source": [
    "lassocv = LarsCV()\n",
    "_ = lassocv.fit(X, y)"
   ]
  },
  {
   "cell_type": "code",
   "execution_count": 183,
   "metadata": {},
   "outputs": [
    {
     "name": "stdout",
     "output_type": "stream",
     "text": [
      "[ 0.          0.02897983  0.04323457  0.05291136  0.05740757  0.06088893\n",
      "  0.10225735  0.12759442  0.13681595  0.15884148  0.17576509  0.19055154\n",
      "  0.20071513  0.21031372  0.22704542  0.25351479  0.27421571  0.2793198\n",
      "  0.28864366  0.29256373  0.31216906  0.33523545  0.38431281  0.43324928\n",
      "  0.45143527  0.54326194  0.79450409  0.83735325  0.89448207  0.90473386\n",
      "  0.99181231  0.99648428  1.01126024  1.10910868  1.28018727  1.4047268\n",
      "  2.70670201  3.00144404  3.10050944  3.19441341  3.20296215  3.46890898\n",
      "  4.59022888  5.91080632  6.22460468  6.30191296  6.76855556  7.07380892\n",
      "  7.37852633 12.57035784 19.4366936  21.71386707 21.99523093 22.21324281\n",
      " 22.40185125 22.45516546]\n",
      "0.02897983049505447\n"
     ]
    }
   ],
   "source": [
    "print(lassocv.cv_alphas_)\n",
    "print(lassocv.alpha_)"
   ]
  },
  {
   "cell_type": "markdown",
   "metadata": {},
   "source": [
    "# Lab 2"
   ]
  },
  {
   "cell_type": "code",
   "execution_count": null,
   "metadata": {},
   "outputs": [],
   "source": [
    "# In R, I exported the dataset from package 'ISLR' to a csv file.\n",
    "df = pd.read_csv('Data/Hitters.csv', index_col=0).dropna()\n",
    "df.index.name = 'Player'\n",
    "df.info()"
   ]
  },
  {
   "cell_type": "code",
   "execution_count": null,
   "metadata": {},
   "outputs": [],
   "source": [
    "df.head()"
   ]
  },
  {
   "cell_type": "code",
   "execution_count": null,
   "metadata": {},
   "outputs": [],
   "source": [
    "dummies = pd.get_dummies(df[['League', 'Division', 'NewLeague']])\n",
    "dummies.info()\n",
    "print(dummies.head())"
   ]
  },
  {
   "cell_type": "code",
   "execution_count": null,
   "metadata": {},
   "outputs": [],
   "source": [
    "y = df.Salary\n",
    "\n",
    "# Drop the column with the independent variable (Salary), and columns for which we created dummy variables\n",
    "X_ = df.drop(['Salary', 'League', 'Division', 'NewLeague'], axis=1).astype('float64')\n",
    "# Define the feature set X.\n",
    "X = pd.concat([X_, dummies[['League_N', 'Division_W', 'NewLeague_N']]], axis=1)\n",
    "X.info()"
   ]
  },
  {
   "cell_type": "code",
   "execution_count": null,
   "metadata": {},
   "outputs": [],
   "source": [
    "X.head(5)"
   ]
  },
  {
   "cell_type": "markdown",
   "metadata": {},
   "source": [
    "#### I executed the R code and downloaded the exact same training/test sets used in the book."
   ]
  },
  {
   "cell_type": "code",
   "execution_count": null,
   "metadata": {},
   "outputs": [],
   "source": [
    "X_train = pd.read_csv('Data/Hitters_X_train.csv', index_col=0)\n",
    "y_train = pd.read_csv('Data/Hitters_y_train.csv', index_col=0)\n",
    "X_test = pd.read_csv('Data/Hitters_X_test.csv', index_col=0)\n",
    "y_test = pd.read_csv('Data/Hitters_y_test.csv', index_col=0)"
   ]
  },
  {
   "cell_type": "markdown",
   "metadata": {},
   "source": [
    "### 6.6.1 Ridge Regression"
   ]
  },
  {
   "cell_type": "markdown",
   "metadata": {},
   "source": [
    "### Scikit-learn"
   ]
  },
  {
   "cell_type": "markdown",
   "metadata": {},
   "source": [
    "The __glmnet__ algorithms in R optimize the objective function using cyclical coordinate descent, while scikit-learn Ridge regression uses linear least squares with L2 regularization. They are rather different implementations, but the general principles are the same.\n",
    "\n",
    "The __glmnet() function in R__ optimizes:\n",
    "### $$ \\frac{1}{N}|| X\\beta-y||^2_2+\\lambda\\bigg(\\frac{1}{2}(1−\\alpha)||\\beta||^2_2 \\ +\\ \\alpha||\\beta||_1\\bigg) $$\n",
    "(See R documentation and https://cran.r-project.org/web/packages/glmnet/vignettes/glmnet_beta.pdf)<BR>\n",
    "The function supports L1 and L2 regularization. For just Ridge regression we need to use $\\alpha = 0 $. This reduces the above cost function to\n",
    "### $$ \\frac{1}{N}|| X\\beta-y||^2_2+\\frac{1}{2}\\lambda ||\\beta||^2_2 $$\n",
    "The __sklearn Ridge()__ function optimizes:\n",
    "### $$ ||X\\beta - y||^2_2 + \\alpha ||\\beta||^2_2 $$\n",
    "which is equivalent to optimizing\n",
    "### $$ \\frac{1}{N}||X\\beta - y||^2_2 + \\frac{\\alpha}{N} ||\\beta||^2_2 $$"
   ]
  },
  {
   "cell_type": "code",
   "execution_count": 163,
   "metadata": {},
   "outputs": [
    {
     "data": {
      "image/png": "[encoded data removed]",
      "text/plain": [
       "<Figure size 432x288 with 1 Axes>"
      ]
     },
     "metadata": {},
     "output_type": "display_data"
    }
   ],
   "source": [
    "alphas = 10**np.linspace(10,-2,100)*0.5\n",
    "\n",
    "ridge = Ridge()\n",
    "coefs = []\n",
    "\n",
    "for a in alphas:\n",
    "    ridge.set_params(alpha=a)\n",
    "    ridge.fit(scale(X), y)\n",
    "    coefs.append(ridge.coef_)\n",
    "\n",
    "ax = plt.gca()\n",
    "ax.plot(alphas, coefs)\n",
    "ax.set_xscale('log')\n",
    "ax.set_xlim(ax.get_xlim()[::-1])  # reverse axis\n",
    "plt.axis('tight')\n",
    "plt.xlabel('alpha')\n",
    "plt.ylabel('weights')\n",
    "plt.title('Ridge coefficients as a function of the regularization');"
   ]
  },
  {
   "cell_type": "markdown",
   "metadata": {},
   "source": [
    "The above plot shows that the Ridge coefficients get larger when we decrease alpha."
   ]
  },
  {
   "cell_type": "markdown",
   "metadata": {},
   "source": [
    "#### Alpha = 4"
   ]
  },
  {
   "cell_type": "code",
   "execution_count": 165,
   "metadata": {},
   "outputs": [
    {
     "ename": "NameError",
     "evalue": "name 'X_train' is not defined",
     "output_type": "error",
     "traceback": [
      "\u001b[0;31m---------------------------------------------------------------------------\u001b[0m",
      "\u001b[0;31mNameError\u001b[0m                                 Traceback (most recent call last)",
      "\u001b[0;32m<ipython-input-165-66f8b39ceaf0>\u001b[0m in \u001b[0;36m<module>\u001b[0;34m\u001b[0m\n\u001b[1;32m      1\u001b[0m \u001b[0;32mfrom\u001b[0m \u001b[0msklearn\u001b[0m\u001b[0;34m.\u001b[0m\u001b[0mpreprocessing\u001b[0m \u001b[0;32mimport\u001b[0m \u001b[0mStandardScaler\u001b[0m\u001b[0;34m\u001b[0m\u001b[0;34m\u001b[0m\u001b[0m\n\u001b[1;32m      2\u001b[0m \u001b[0;34m\u001b[0m\u001b[0m\n\u001b[0;32m----> 3\u001b[0;31m \u001b[0mscaler\u001b[0m \u001b[0;34m=\u001b[0m \u001b[0mStandardScaler\u001b[0m\u001b[0;34m(\u001b[0m\u001b[0;34m)\u001b[0m\u001b[0;34m.\u001b[0m\u001b[0mfit\u001b[0m\u001b[0;34m(\u001b[0m\u001b[0mX_train\u001b[0m\u001b[0;34m)\u001b[0m\u001b[0;34m\u001b[0m\u001b[0;34m\u001b[0m\u001b[0m\n\u001b[0m",
      "\u001b[0;31mNameError\u001b[0m: name 'X_train' is not defined"
     ]
    }
   ],
   "source": [
    "from sklearn.preprocessing import StandardScaler\n",
    "\n",
    "scaler = StandardScaler().fit(X_train)"
   ]
  },
  {
   "cell_type": "code",
   "execution_count": null,
   "metadata": {},
   "outputs": [],
   "source": [
    "ridge2 = Ridge(alpha=len(X_)*11498/2)\n",
    "ridge2.fit(scaler.transform(X_train), y_train)\n",
    "pred = ridge2.predict(scaler.transform(X_test))\n",
    "mean_squared_error(y_test, pred)"
   ]
  },
  {
   "cell_type": "code",
   "execution_count": null,
   "metadata": {},
   "outputs": [],
   "source": [
    "pd.Series(ridge2.coef_.flatten(), index=X.columns)"
   ]
  },
  {
   "cell_type": "markdown",
   "metadata": {},
   "source": [
    "#### Alpha = $10^{10}$ \n",
    "This big penalty shrinks the coefficients to a very large degree and makes the model more biased, resulting in a higher MSE."
   ]
  },
  {
   "cell_type": "code",
   "execution_count": 164,
   "metadata": {},
   "outputs": [
    {
     "ename": "NameError",
     "evalue": "name 'ridge2' is not defined",
     "output_type": "error",
     "traceback": [
      "\u001b[0;31m---------------------------------------------------------------------------\u001b[0m",
      "\u001b[0;31mNameError\u001b[0m                                 Traceback (most recent call last)",
      "\u001b[0;32m<ipython-input-164-80eede80203d>\u001b[0m in \u001b[0;36m<module>\u001b[0;34m\u001b[0m\n\u001b[0;32m----> 1\u001b[0;31m \u001b[0mridge2\u001b[0m\u001b[0;34m.\u001b[0m\u001b[0mset_params\u001b[0m\u001b[0;34m(\u001b[0m\u001b[0malpha\u001b[0m\u001b[0;34m=\u001b[0m\u001b[0;36m10\u001b[0m\u001b[0;34m**\u001b[0m\u001b[0;36m10\u001b[0m\u001b[0;34m)\u001b[0m\u001b[0;34m\u001b[0m\u001b[0;34m\u001b[0m\u001b[0m\n\u001b[0m\u001b[1;32m      2\u001b[0m \u001b[0mridge2\u001b[0m\u001b[0;34m.\u001b[0m\u001b[0mfit\u001b[0m\u001b[0;34m(\u001b[0m\u001b[0mscale\u001b[0m\u001b[0;34m(\u001b[0m\u001b[0mX_train\u001b[0m\u001b[0;34m)\u001b[0m\u001b[0;34m,\u001b[0m \u001b[0my_train\u001b[0m\u001b[0;34m)\u001b[0m\u001b[0;34m\u001b[0m\u001b[0;34m\u001b[0m\u001b[0m\n\u001b[1;32m      3\u001b[0m \u001b[0mpred\u001b[0m \u001b[0;34m=\u001b[0m \u001b[0mridge2\u001b[0m\u001b[0;34m.\u001b[0m\u001b[0mpredict\u001b[0m\u001b[0;34m(\u001b[0m\u001b[0mscale\u001b[0m\u001b[0;34m(\u001b[0m\u001b[0mX_test\u001b[0m\u001b[0;34m)\u001b[0m\u001b[0;34m)\u001b[0m\u001b[0;34m\u001b[0m\u001b[0;34m\u001b[0m\u001b[0m\n\u001b[1;32m      4\u001b[0m \u001b[0mmean_squared_error\u001b[0m\u001b[0;34m(\u001b[0m\u001b[0my_test\u001b[0m\u001b[0;34m,\u001b[0m \u001b[0mpred\u001b[0m\u001b[0;34m)\u001b[0m\u001b[0;34m\u001b[0m\u001b[0;34m\u001b[0m\u001b[0m\n",
      "\u001b[0;31mNameError\u001b[0m: name 'ridge2' is not defined"
     ]
    }
   ],
   "source": [
    "ridge2.set_params(alpha=10**10)\n",
    "ridge2.fit(scale(X_train), y_train)\n",
    "pred = ridge2.predict(scale(X_test))\n",
    "mean_squared_error(y_test, pred)"
   ]
  },
  {
   "cell_type": "markdown",
   "metadata": {},
   "source": [
    "#### Compute the regularization path using RidgeCV"
   ]
  },
  {
   "cell_type": "code",
   "execution_count": 166,
   "metadata": {},
   "outputs": [
    {
     "ename": "NameError",
     "evalue": "name 'X_train' is not defined",
     "output_type": "error",
     "traceback": [
      "\u001b[0;31m---------------------------------------------------------------------------\u001b[0m",
      "\u001b[0;31mNameError\u001b[0m                                 Traceback (most recent call last)",
      "\u001b[0;32m<ipython-input-166-837fa7440dfa>\u001b[0m in \u001b[0;36m<module>\u001b[0;34m\u001b[0m\n\u001b[1;32m      1\u001b[0m \u001b[0mridgecv\u001b[0m \u001b[0;34m=\u001b[0m \u001b[0mRidgeCV\u001b[0m\u001b[0;34m(\u001b[0m\u001b[0malphas\u001b[0m\u001b[0;34m=\u001b[0m\u001b[0malphas\u001b[0m\u001b[0;34m,\u001b[0m \u001b[0mscoring\u001b[0m\u001b[0;34m=\u001b[0m\u001b[0;34m'neg_mean_squared_error'\u001b[0m\u001b[0;34m)\u001b[0m\u001b[0;34m\u001b[0m\u001b[0;34m\u001b[0m\u001b[0m\n\u001b[0;32m----> 2\u001b[0;31m \u001b[0mridgecv\u001b[0m\u001b[0;34m.\u001b[0m\u001b[0mfit\u001b[0m\u001b[0;34m(\u001b[0m\u001b[0mscale\u001b[0m\u001b[0;34m(\u001b[0m\u001b[0mX_train\u001b[0m\u001b[0;34m)\u001b[0m\u001b[0;34m,\u001b[0m \u001b[0my_train\u001b[0m\u001b[0;34m)\u001b[0m\u001b[0;34m\u001b[0m\u001b[0;34m\u001b[0m\u001b[0m\n\u001b[0m",
      "\u001b[0;31mNameError\u001b[0m: name 'X_train' is not defined"
     ]
    }
   ],
   "source": [
    "ridgecv = RidgeCV(alphas=alphas, scoring='neg_mean_squared_error')\n",
    "ridgecv.fit(scale(X_train), y_train)"
   ]
  },
  {
   "cell_type": "code",
   "execution_count": null,
   "metadata": {},
   "outputs": [],
   "source": [
    "ridgecv.alpha_"
   ]
  },
  {
   "cell_type": "code",
   "execution_count": null,
   "metadata": {},
   "outputs": [],
   "source": [
    "ridge2.set_params(alpha=ridgecv.alpha_)\n",
    "ridge2.fit(scale(X_train), y_train)\n",
    "mean_squared_error(y_test, ridge2.predict(scale(X_test)))"
   ]
  },
  {
   "cell_type": "code",
   "execution_count": null,
   "metadata": {},
   "outputs": [],
   "source": [
    "pd.Series(ridge2.coef_.flatten(), index=X.columns)"
   ]
  },
  {
   "cell_type": "markdown",
   "metadata": {},
   "source": [
    "### python-glmnet (update 2016-08-29)\n",
    "This relatively new module is a wrapper for the fortran library used in the R package `glmnet`. It gives mostly the exact same results as described in the book. However, the `predict()` method does not give you the regression *coefficients* for lambda values not in the lambda_path. It only returns the predicted values.\n",
    "https://github.com/civisanalytics/python-glmnet"
   ]
  },
  {
   "cell_type": "code",
   "execution_count": null,
   "metadata": {},
   "outputs": [],
   "source": [
    "grid = 10**np.linspace(10,-2,100)\n",
    "\n",
    "ridge3 = gln.ElasticNet(alpha=0, lambda_path=grid)\n",
    "ridge3.fit(X, y)"
   ]
  },
  {
   "cell_type": "markdown",
   "metadata": {},
   "source": [
    "#### Lambda 11498"
   ]
  },
  {
   "cell_type": "code",
   "execution_count": null,
   "metadata": {},
   "outputs": [],
   "source": [
    "ridge3.lambda_path_[49]"
   ]
  },
  {
   "cell_type": "code",
   "execution_count": null,
   "metadata": {},
   "outputs": [],
   "source": [
    "print('Intercept: {:.3f}'.format(ridge3.intercept_path_[49]))"
   ]
  },
  {
   "cell_type": "code",
   "execution_count": null,
   "metadata": {},
   "outputs": [],
   "source": [
    "pd.Series(np.round(ridge3.coef_path_[:,49], decimals=3), index=X.columns)"
   ]
  },
  {
   "cell_type": "code",
   "execution_count": null,
   "metadata": {},
   "outputs": [],
   "source": [
    "np.sqrt(np.sum(ridge3.coef_path_[:,49]**2))"
   ]
  },
  {
   "cell_type": "markdown",
   "metadata": {},
   "source": [
    "#### Lambda 705"
   ]
  },
  {
   "cell_type": "code",
   "execution_count": null,
   "metadata": {},
   "outputs": [],
   "source": [
    "ridge3.lambda_path_[59]"
   ]
  },
  {
   "cell_type": "code",
   "execution_count": null,
   "metadata": {},
   "outputs": [],
   "source": [
    "print('Intercept: {:.3f}'.format(ridge3.intercept_path_[59]))"
   ]
  },
  {
   "cell_type": "code",
   "execution_count": null,
   "metadata": {},
   "outputs": [],
   "source": [
    "pd.Series(np.round(ridge3.coef_path_[:,59], decimals=3), index=X.columns)"
   ]
  },
  {
   "cell_type": "code",
   "execution_count": null,
   "metadata": {},
   "outputs": [],
   "source": [
    "np.sqrt(np.sum(ridge3.coef_path_[:,59]**2))"
   ]
  },
  {
   "cell_type": "markdown",
   "metadata": {},
   "source": [
    "#### Fit model using just the training set."
   ]
  },
  {
   "cell_type": "code",
   "execution_count": null,
   "metadata": {},
   "outputs": [],
   "source": [
    "ridge4 = gln.ElasticNet(alpha=0, lambda_path=grid, scoring='mean_squared_error', tol=1e-12)\n",
    "ridge4.fit(X_train, y_train.values.ravel())"
   ]
  },
  {
   "cell_type": "code",
   "execution_count": null,
   "metadata": {},
   "outputs": [],
   "source": [
    "# prediction using lambda = 4\n",
    "pred = ridge4.predict(X_test, lamb=4)\n",
    "mean_squared_error(y_test.values.ravel(), pred)"
   ]
  },
  {
   "cell_type": "markdown",
   "metadata": {},
   "source": [
    "#### Lambda chosen by cross validation"
   ]
  },
  {
   "cell_type": "code",
   "execution_count": null,
   "metadata": {},
   "outputs": [],
   "source": [
    "ridge5 = gln.ElasticNet(alpha=0, scoring='mean_squared_error')\n",
    "ridge5.fit(X_train, y_train.values.ravel())"
   ]
  },
  {
   "cell_type": "code",
   "execution_count": null,
   "metadata": {},
   "outputs": [],
   "source": [
    "# Lambda with best CV performance\n",
    "ridge5.lambda_max_"
   ]
  },
  {
   "cell_type": "code",
   "execution_count": null,
   "metadata": {},
   "outputs": [],
   "source": [
    "# Lambda larger than lambda_max_, but with a CV score that is within 1 standard deviation away from lambda_max_ \n",
    "ridge5.lambda_best_"
   ]
  },
  {
   "cell_type": "code",
   "execution_count": null,
   "metadata": {},
   "outputs": [],
   "source": [
    "plt.figure(figsize=(15,6))\n",
    "plt.errorbar(np.log(ridge5.lambda_path_), -ridge5.cv_mean_score_, color='r', linestyle='None', marker='o',\n",
    "             markersize=5, yerr=ridge5.cv_standard_error_, ecolor='lightgrey', capsize=4)\n",
    "\n",
    "for ref, txt in zip([ridge5.lambda_best_, ridge5.lambda_max_], ['Lambda best', 'Lambda max']):\n",
    "    plt.axvline(x=np.log(ref), linestyle='dashed', color='lightgrey')\n",
    "    plt.text(np.log(ref), .95*plt.gca().get_ylim()[1], txt, ha='center')\n",
    "\n",
    "plt.xlabel('log(Lambda)')\n",
    "plt.ylabel('Mean-Squared Error');"
   ]
  },
  {
   "cell_type": "code",
   "execution_count": null,
   "metadata": {},
   "outputs": [],
   "source": [
    "# MSE for lambda with best CV performance\n",
    "pred = ridge5.predict(X_test, lamb=ridge5.lambda_max_)\n",
    "mean_squared_error(y_test, pred)"
   ]
  },
  {
   "cell_type": "markdown",
   "metadata": {},
   "source": [
    "#### Fit model to full data set"
   ]
  },
  {
   "cell_type": "code",
   "execution_count": null,
   "metadata": {},
   "outputs": [],
   "source": [
    "ridge6= gln.ElasticNet(alpha=0, scoring='mean_squared_error', n_splits=10)\n",
    "ridge6.fit(X, y)"
   ]
  },
  {
   "cell_type": "code",
   "execution_count": null,
   "metadata": {},
   "outputs": [],
   "source": [
    "# These are not really close to the ones in the book.\n",
    "pd.Series(ridge6.coef_path_[:,ridge6.lambda_max_inx_], index=X.columns)"
   ]
  },
  {
   "cell_type": "markdown",
   "metadata": {},
   "source": [
    "### 6.6.2 The Lasso"
   ]
  },
  {
   "cell_type": "markdown",
   "metadata": {},
   "source": [
    "### Scikit-learn"
   ]
  },
  {
   "cell_type": "markdown",
   "metadata": {},
   "source": [
    "\n",
    "\n",
    "For both __glmnet__ in R and sklearn __Lasso()__ function the standard L1 penalty is:\n",
    "### $$ \\lambda |\\beta|_1 $$"
   ]
  },
  {
   "cell_type": "code",
   "execution_count": null,
   "metadata": {},
   "outputs": [],
   "source": [
    "lasso = Lasso(max_iter=10000)\n",
    "coefs = []\n",
    "\n",
    "for a in alphas*2:\n",
    "    lasso.set_params(alpha=a)\n",
    "    lasso.fit(scale(X_train), y_train)\n",
    "    coefs.append(lasso.coef_)\n",
    "\n",
    "ax = plt.gca()\n",
    "ax.plot(alphas*2, coefs)\n",
    "ax.set_xscale('log')\n",
    "ax.set_xlim(ax.get_xlim()[::-1])  # reverse axis\n",
    "plt.axis('tight')\n",
    "plt.xlabel('alpha')\n",
    "plt.ylabel('weights')\n",
    "plt.title('Lasso coefficients as a function of the regularization');"
   ]
  },
  {
   "cell_type": "code",
   "execution_count": null,
   "metadata": {},
   "outputs": [],
   "source": [
    "lassocv = LassoCV(alphas=None, cv=10, max_iter=10000)\n",
    "lassocv.fit(scale(X_train), y_train.values.ravel())"
   ]
  },
  {
   "cell_type": "code",
   "execution_count": null,
   "metadata": {},
   "outputs": [],
   "source": [
    "lassocv.alpha_"
   ]
  },
  {
   "cell_type": "code",
   "execution_count": null,
   "metadata": {},
   "outputs": [],
   "source": [
    "lasso.set_params(alpha=lassocv.alpha_)\n",
    "lasso.fit(scale(X_train), y_train)\n",
    "mean_squared_error(y_test, lasso.predict(scale(X_test)))"
   ]
  },
  {
   "cell_type": "code",
   "execution_count": null,
   "metadata": {},
   "outputs": [],
   "source": [
    "# Some of the coefficients are now reduced to exactly zero.\n",
    "pd.Series(lasso.coef_, index=X.columns)"
   ]
  },
  {
   "cell_type": "markdown",
   "metadata": {},
   "source": [
    "### python-glmnet"
   ]
  },
  {
   "cell_type": "code",
   "execution_count": null,
   "metadata": {},
   "outputs": [],
   "source": [
    "lasso2 = gln.ElasticNet(alpha=1, lambda_path=grid, scoring='mean_squared_error', n_splits=10)\n",
    "lasso2.fit(X_train, y_train.values.ravel())"
   ]
  },
  {
   "cell_type": "code",
   "execution_count": null,
   "metadata": {},
   "outputs": [],
   "source": [
    "l1_norm = np.sum(np.abs(lasso2.coef_path_), axis=0)\n",
    "\n",
    "plt.figure(figsize=(10,6))\n",
    "plt.plot(l1_norm, lasso2.coef_path_.T)\n",
    "plt.xlabel('L1 norm')\n",
    "plt.ylabel('Coefficients');"
   ]
  },
  {
   "cell_type": "markdown",
   "metadata": {},
   "source": [
    "#### Let glmnet() create a grid to use in CV"
   ]
  },
  {
   "cell_type": "code",
   "execution_count": null,
   "metadata": {},
   "outputs": [],
   "source": [
    "lasso3 = gln.ElasticNet(alpha=1, scoring='mean_squared_error', n_splits=10)\n",
    "lasso3.fit(X_train, y_train.values.ravel())"
   ]
  },
  {
   "cell_type": "code",
   "execution_count": null,
   "metadata": {},
   "outputs": [],
   "source": [
    "plt.figure(figsize=(15,6))\n",
    "plt.errorbar(np.log(lasso3.lambda_path_), -lasso3.cv_mean_score_, color='r', linestyle='None', marker='o',\n",
    "             markersize=5, yerr=lasso3.cv_standard_error_, ecolor='lightgrey', capsize=4)\n",
    "\n",
    "for ref, txt in zip([lasso3.lambda_best_, lasso3.lambda_max_], ['Lambda best', 'Lambda max']):\n",
    "    plt.axvline(x=np.log(ref), linestyle='dashed', color='lightgrey')\n",
    "    plt.text(np.log(ref), .95*plt.gca().get_ylim()[1], txt, ha='center')\n",
    "\n",
    "plt.xlabel('log(Lambda)')\n",
    "plt.ylabel('Mean-Squared Error');"
   ]
  },
  {
   "cell_type": "code",
   "execution_count": null,
   "metadata": {},
   "outputs": [],
   "source": [
    "pred = lasso3.predict(X_test, lamb=lasso3.lambda_max_)\n",
    "mean_squared_error(y_test, pred)"
   ]
  },
  {
   "cell_type": "markdown",
   "metadata": {},
   "source": [
    "#### Fit model on full dataset"
   ]
  },
  {
   "cell_type": "code",
   "execution_count": null,
   "metadata": {},
   "outputs": [],
   "source": [
    "lasso4 = gln.ElasticNet(alpha=1, lambda_path=grid, scoring='mean_squared_error', n_splits=10)\n",
    "lasso4.fit(X, y)"
   ]
  },
  {
   "cell_type": "code",
   "execution_count": null,
   "metadata": {},
   "outputs": [],
   "source": [
    "# These are not really close to the ones in the book.\n",
    "pd.Series(lasso4.coef_path_[:,lasso4.lambda_max_inx_], index=X.columns)"
   ]
  },
  {
   "cell_type": "markdown",
   "metadata": {},
   "source": [
    "# Lab 3"
   ]
  },
  {
   "cell_type": "markdown",
   "metadata": {},
   "source": [
    "### 6.7.1 Principal Components Regression"
   ]
  },
  {
   "cell_type": "markdown",
   "metadata": {},
   "source": [
    "Scikit-klearn does not have an implementation of PCA and regression combined like the 'pls' package in R.\n",
    "https://cran.r-project.org/web/packages/pls/vignettes/pls-manual.pdf"
   ]
  },
  {
   "cell_type": "code",
   "execution_count": null,
   "metadata": {},
   "outputs": [],
   "source": [
    "pca = PCA()\n",
    "X_reduced = pca.fit_transform(scale(X))\n",
    "\n",
    "print(pca.components_.shape)\n",
    "pd.DataFrame(pca.components_.T).loc[:4,:5]"
   ]
  },
  {
   "cell_type": "markdown",
   "metadata": {},
   "source": [
    "The above loadings are the same as in R."
   ]
  },
  {
   "cell_type": "code",
   "execution_count": null,
   "metadata": {},
   "outputs": [],
   "source": [
    "print(X_reduced.shape)\n",
    "pd.DataFrame(X_reduced).loc[:4,:5]"
   ]
  },
  {
   "cell_type": "markdown",
   "metadata": {},
   "source": [
    "The above principal components are the same as in R."
   ]
  },
  {
   "cell_type": "code",
   "execution_count": null,
   "metadata": {},
   "outputs": [],
   "source": [
    "# Variance explained by the principal components\n",
    "np.cumsum(np.round(pca.explained_variance_ratio_, decimals=4)*100)"
   ]
  },
  {
   "cell_type": "code",
   "execution_count": null,
   "metadata": {},
   "outputs": [],
   "source": [
    "# 10-fold CV, with shuffle\n",
    "n = len(X_reduced)\n",
    "kf_10 = KFold(n_splits=10, shuffle=True, random_state=1)\n",
    "\n",
    "regr = LinearRegression()\n",
    "mse = []\n",
    "\n",
    "# Calculate MSE with only the intercept (no principal components in regression)\n",
    "score = -1*cross_val_score(regr, np.ones((n,1)), y.ravel(), cv=kf_10, scoring='neg_mean_squared_error').mean()    \n",
    "mse.append(score)\n",
    "\n",
    "# Calculate MSE using CV for the 19 principle components, adding one component at the time.\n",
    "for i in np.arange(1, 20):\n",
    "    score = -1*cross_val_score(regr, X_reduced[:,:i], y.ravel(), cv=kf_10, scoring='neg_mean_squared_error').mean()\n",
    "    mse.append(score)\n",
    "    \n",
    "plt.plot(mse, '-v')\n",
    "plt.xlabel('Number of principal components in regression')\n",
    "plt.ylabel('MSE')\n",
    "plt.title('Salary')\n",
    "plt.xlim(xmin=-1);"
   ]
  },
  {
   "cell_type": "markdown",
   "metadata": {},
   "source": [
    "The above plot indicates that the lowest training MSE is reached when doing regression on 18 components."
   ]
  },
  {
   "cell_type": "code",
   "execution_count": null,
   "metadata": {},
   "outputs": [],
   "source": [
    "regr_test = LinearRegression()\n",
    "regr_test.fit(X_reduced, y)\n",
    "regr_test.coef_"
   ]
  },
  {
   "cell_type": "markdown",
   "metadata": {},
   "source": [
    "#### Fitting PCA with training data"
   ]
  },
  {
   "cell_type": "code",
   "execution_count": null,
   "metadata": {},
   "outputs": [],
   "source": [
    "pca2 = PCA()\n",
    "X_reduced_train = pca2.fit_transform(scale(X_train))\n",
    "n = len(X_reduced_train)\n",
    "\n",
    "# 10-fold CV, with shuffle\n",
    "kf_10 = KFold(n_splits=10, shuffle=False, random_state=1)\n",
    "\n",
    "mse = []\n",
    "\n",
    "# Calculate MSE with only the intercept (no principal components in regression)\n",
    "score = -1*cross_val_score(regr, np.ones((n,1)), y_train, cv=kf_10, scoring='neg_mean_squared_error').mean()    \n",
    "mse.append(score)\n",
    "\n",
    "# Calculate MSE using CV for the 19 principle components, adding one component at the time.\n",
    "for i in np.arange(1, 20):\n",
    "    score = -1*cross_val_score(regr, X_reduced_train[:,:i], y_train, cv=kf_10, scoring='neg_mean_squared_error').mean()\n",
    "    mse.append(score)\n",
    "\n",
    "plt.plot(np.array(mse), '-v')\n",
    "plt.xlabel('Number of principal components in regression')\n",
    "plt.ylabel('MSE')\n",
    "plt.title('Salary')\n",
    "plt.xlim(xmin=-1);"
   ]
  },
  {
   "cell_type": "markdown",
   "metadata": {},
   "source": [
    "The above plot indicates that the lowest training MSE is reached when doing regression on 6 components."
   ]
  },
  {
   "cell_type": "markdown",
   "metadata": {},
   "source": [
    "#### Transform test data with PCA loadings and fit regression on 6 principal components"
   ]
  },
  {
   "cell_type": "code",
   "execution_count": null,
   "metadata": {},
   "outputs": [],
   "source": [
    "X_reduced_test = pca2.transform(scale(X_test))[:,:7]\n",
    "\n",
    "# Train regression model on training data \n",
    "regr = LinearRegression()\n",
    "regr.fit(X_reduced_train[:,:7], y_train)\n",
    "\n",
    "# Prediction with test data\n",
    "pred = regr.predict(X_reduced_test)\n",
    "mean_squared_error(y_test, pred)"
   ]
  },
  {
   "cell_type": "markdown",
   "metadata": {},
   "source": [
    "### 6.7.2 Partial Least Squares"
   ]
  },
  {
   "cell_type": "markdown",
   "metadata": {},
   "source": [
    "Scikit-learn PLSRegression gives same results as the pls package in R when using 'method='oscorespls'. In the LAB excercise, the standard method is used which is 'kernelpls'. \n",
    "\n",
    "When doing a slightly different fitting in R, the result is close to the one obtained using scikit-learn.\n",
    "\n",
    "    pls.fit=plsr(Salary~., data=Hitters, subset=train, scale=TRUE, validation=\"CV\", method='oscorespls')\n",
    "    validationplot(pls.fit,val.type=\"MSEP\", intercept = FALSE)\n",
    "   \n",
    "See documentation:\n",
    "http://scikit-learn.org/dev/modules/generated/sklearn.cross_decomposition.PLSRegression.html#sklearn.cross_decomposition.PLSRegression"
   ]
  },
  {
   "cell_type": "code",
   "execution_count": null,
   "metadata": {},
   "outputs": [],
   "source": [
    "n = len(X_train)\n",
    "\n",
    "# 10-fold CV, with shuffle\n",
    "kf_10 = KFold(n_splits=10, shuffle=False, random_state=1)\n",
    "\n",
    "mse = []\n",
    "\n",
    "for i in np.arange(1, 20):\n",
    "    pls = PLSRegression(n_components=i)\n",
    "    score = cross_val_score(pls, scale(X_train), y_train, cv=kf_10, scoring='neg_mean_squared_error').mean()\n",
    "    mse.append(-score)\n",
    "\n",
    "plt.plot(np.arange(1, 20), np.array(mse), '-v')\n",
    "plt.xlabel('Number of principal components in regression')\n",
    "plt.ylabel('MSE')\n",
    "plt.title('Salary')\n",
    "plt.xlim(xmin=-1);"
   ]
  },
  {
   "cell_type": "code",
   "execution_count": null,
   "metadata": {},
   "outputs": [],
   "source": [
    "pls = PLSRegression(n_components=2)\n",
    "pls.fit(scale(X_train), y_train)\n",
    "\n",
    "mean_squared_error(y_test, pls.predict(scale(X_test)))"
   ]
  }
 ],
 "metadata": {
  "kernelspec": {
   "display_name": "Python 3",
   "language": "python",
   "name": "python3"
  }
 },
 "nbformat": 4,
 "nbformat_minor": 1
}
