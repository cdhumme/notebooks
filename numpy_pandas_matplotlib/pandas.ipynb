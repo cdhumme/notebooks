{
 "cells": [
  {
   "cell_type": "markdown",
   "metadata": {},
   "source": [
    "# Panadas DataFram and Series Data Types"
   ]
  },
  {
   "cell_type": "markdown",
   "metadata": {},
   "source": [
    "First import the `pandas` package and give it an alias `pd`."
   ]
  },
  {
   "cell_type": "code",
   "execution_count": 1,
   "metadata": {},
   "outputs": [],
   "source": [
    "import pandas as pd\n",
    "import numpy as np"
   ]
  },
  {
   "cell_type": "code",
   "execution_count": 2,
   "metadata": {},
   "outputs": [],
   "source": [
    "# ?pd.set_option"
   ]
  },
  {
   "cell_type": "markdown",
   "metadata": {},
   "source": [
    "# Introduction\n",
    "\n",
    "pandas uses DataFrame to represent tabular data, such as data stored in spreadsheets or databases. You can view a DataFrame as a data table with a set of methods that manipulate or process the data in the data table.\n",
    "\n",
    "## DataFrame\n",
    "A DataFrame is a 2-dimensional data structure that can store data of different types (including characters, integers, floating point values, categorical data and more) in columns. It is similar to a spreadsheet, a SQL table or the data.frame in R.\n",
    "\n",
    "![DataFrame](https://pandas.pydata.org/docs/_images/01_table_dataframe.svg)"
   ]
  },
  {
   "cell_type": "markdown",
   "metadata": {},
   "source": [
    "To manually store data in a table, create a DataFrame. When using a Python dictionary of lists, the dictionary keys will be used as column headers and the values in each list as columns of the DataFrame.\n",
    "\n",
    "For example, we can create a DataFrame for the Clemson Tiger playes."
   ]
  },
  {
   "cell_type": "code",
   "execution_count": 3,
   "metadata": {},
   "outputs": [
    {
     "name": "stdout",
     "output_type": "stream",
     "text": [
      "<class 'pandas.core.frame.DataFrame'>\n"
     ]
    },
    {
     "data": {
      "text/html": [
       "<div>\n",
       "<style scoped>\n",
       "    .dataframe tbody tr th:only-of-type {\n",
       "        vertical-align: middle;\n",
       "    }\n",
       "\n",
       "    .dataframe tbody tr th {\n",
       "        vertical-align: top;\n",
       "    }\n",
       "\n",
       "    .dataframe thead th {\n",
       "        text-align: right;\n",
       "    }\n",
       "</style>\n",
       "<table border=\"1\" class=\"dataframe\">\n",
       "  <thead>\n",
       "    <tr style=\"text-align: right;\">\n",
       "      <th></th>\n",
       "      <th>Name</th>\n",
       "      <th>Position</th>\n",
       "      <th>Height</th>\n",
       "      <th>Weight</th>\n",
       "      <th>Class</th>\n",
       "    </tr>\n",
       "  </thead>\n",
       "  <tbody>\n",
       "    <tr>\n",
       "      <th>0</th>\n",
       "      <td>Hunter Helms</td>\n",
       "      <td>QB</td>\n",
       "      <td>6.1</td>\n",
       "      <td>210</td>\n",
       "      <td>FR</td>\n",
       "    </tr>\n",
       "    <tr>\n",
       "      <th>1</th>\n",
       "      <td>Trevor Lawrence</td>\n",
       "      <td>QB</td>\n",
       "      <td>6.2</td>\n",
       "      <td>220</td>\n",
       "      <td>JR</td>\n",
       "    </tr>\n",
       "    <tr>\n",
       "      <th>2</th>\n",
       "      <td>Drew Swinney</td>\n",
       "      <td>WR</td>\n",
       "      <td>5.1</td>\n",
       "      <td>180</td>\n",
       "      <td>SO</td>\n",
       "    </tr>\n",
       "  </tbody>\n",
       "</table>\n",
       "</div>"
      ],
      "text/plain": [
       "              Name Position  Height  Weight Class\n",
       "0     Hunter Helms       QB     6.1     210    FR\n",
       "1  Trevor Lawrence       QB     6.2     220    JR\n",
       "2     Drew Swinney       WR     5.1     180    SO"
      ]
     },
     "execution_count": 3,
     "metadata": {},
     "output_type": "execute_result"
    }
   ],
   "source": [
    "df = pd.DataFrame({\n",
    "    \"Name\": [\"Hunter Helms\", \"Trevor Lawrence\", \"Drew Swinney\"],\n",
    "    \"Position\": [\"QB\", \"QB\", \"WR\"],\n",
    "    \"Height\": [6.1, 6.2, 5.10],\n",
    "    \"Weight\": [210, 220, 180],\n",
    "    \"Class\": [\"FR\", \"JR\", \"SO\"]\n",
    "})\n",
    "print(type(df))\n",
    "df"
   ]
  },
  {
   "cell_type": "markdown",
   "metadata": {},
   "source": [
    "## Series\n",
    "\n",
    "A __Series__ is a `one-dimensional labeled ndarray` that can `hold any data type`. Each column in a `DataFrame` is a `Series`.\n",
    "\n",
    "![Series](https://pandas.pydata.org/docs/_images/01_table_series.svg)"
   ]
  },
  {
   "cell_type": "code",
   "execution_count": 4,
   "metadata": {},
   "outputs": [
    {
     "name": "stdout",
     "output_type": "stream",
     "text": [
      "<class 'pandas.core.series.Series'>\n"
     ]
    },
    {
     "data": {
      "text/plain": [
       "0    QB\n",
       "1    QB\n",
       "2    WR\n",
       "Name: Position, dtype: object"
      ]
     },
     "execution_count": 4,
     "metadata": {},
     "output_type": "execute_result"
    }
   ],
   "source": [
    "pos = df[\"Position\"]\n",
    "print(type(pos))\n",
    "pos"
   ]
  },
  {
   "cell_type": "code",
   "execution_count": 5,
   "metadata": {},
   "outputs": [
    {
     "name": "stdout",
     "output_type": "stream",
     "text": [
      "Index of pos: \n",
      "\ttype = <class 'pandas.core.indexes.range.RangeIndex'> \n",
      "\tvalue = RangeIndex(start=0, stop=3, step=1)\n",
      "Value of pos: \n",
      "\ttype = <class 'numpy.ndarray'> \n",
      "\tvalue = ['QB' 'QB' 'WR']\n"
     ]
    }
   ],
   "source": [
    "print(\"Index of pos:\", \"\\n\\ttype =\", type(pos.index), \"\\n\\tvalue =\", pos.index)\n",
    "print(\"Value of pos:\", \"\\n\\ttype =\", type(pos.values), \"\\n\\tvalue =\", pos.values)"
   ]
  },
  {
   "cell_type": "markdown",
   "metadata": {},
   "source": [
    "__Series__ extends the funcationality of `ndarray` by `adding a set of lables to index` the elements of the array.\n",
    "   + Series supports both integer- and label-based indexing.\n",
    "   + Many methods of the Series class extensively use index when performing operations.\n",
    "   + __Series__ overrides the statistical methods from ndarray to `automatically exclude missing data` (currently represented as NaN)."
   ]
  },
  {
   "cell_type": "markdown",
   "metadata": {},
   "source": [
    "###  The Series Object\n",
    "\n",
    "The signature of the Series's construtor (i.e., the `__init__()` method) is:\n",
    "```\n",
    "pd.Series(\n",
    "    data=None,\n",
    "    index=None,\n",
    "    dtype=None,\n",
    "    name=None,\n",
    "    copy=False,\n",
    "    fastpath=False,\n",
    ")\n",
    "```\n",
    "\n",
    "Read the Series documentation to find out how to create a Series object. Then answer the following questions:\n",
    "\n",
    "1. Which command will return the documentation of the Series class?\n",
    "   + help(pd.Series)\n",
    "   + ?pd.Series\n",
    "1. Which argument in the Series constructor is required? which is optional?\n",
    "1. An object of which of the following data types can be passed into the Series constructor?\n",
    "   + a Python dict\n",
    "   + an ndarray\n",
    "   + a scalar value (like 8)\n",
    "   + a list of integers\n",
    "   + a set of strings\n",
    "1. If the argument of index is not provided in the Series constructor, what will be the default value?"
   ]
  },
  {
   "cell_type": "markdown",
   "metadata": {},
   "source": [
    "### 1. Create a Series from an ndarray\n",
    "\n",
    "+ If data is an ndarray, index must be the same length as data. \n",
    "+ If no index is passed, one will be created having values [0, ..., len(data) - 1]."
   ]
  },
  {
   "cell_type": "code",
   "execution_count": 6,
   "metadata": {},
   "outputs": [],
   "source": [
    "# A series with label based index\n",
    "s = pd.Series(np.random.randn(5), index=['a', 'b', 'c', 'd', 'e'])\n",
    "\n",
    "# A series with Integer index\n",
    "t = pd.Series(np.random.randn(5))"
   ]
  },
  {
   "cell_type": "code",
   "execution_count": 7,
   "metadata": {},
   "outputs": [
    {
     "data": {
      "text/plain": [
       "a    0.991785\n",
       "b    0.504992\n",
       "c   -0.224333\n",
       "d    0.326855\n",
       "e   -1.697792\n",
       "dtype: float64"
      ]
     },
     "execution_count": 7,
     "metadata": {},
     "output_type": "execute_result"
    }
   ],
   "source": [
    "s"
   ]
  },
  {
   "cell_type": "code",
   "execution_count": 8,
   "metadata": {},
   "outputs": [
    {
     "data": {
      "text/plain": [
       "0    1.001701\n",
       "1    0.484998\n",
       "2    0.843033\n",
       "3   -0.306996\n",
       "4   -1.178918\n",
       "dtype: float64"
      ]
     },
     "execution_count": 8,
     "metadata": {},
     "output_type": "execute_result"
    }
   ],
   "source": [
    "t"
   ]
  },
  {
   "cell_type": "markdown",
   "metadata": {},
   "source": [
    "### 2. Create a Series from dicts\n",
    "\n",
    "Series can be instantiated from dicts.\n",
    "\n",
    "+ When the data is a dict, and an index is not passed, the Series index will be the dict keys. \n",
    "However, the oder of the index will be dependent on the version of Python and Pandas.\n",
    "   + If you’re using Python version >= 3.6 and Pandas version >= 0.23, the index will be \n",
    "    ordered by the dict’s insertion order.\n",
    "   + If you’re using Python < 3.6 or Pandas < 0.23, the Series index will be the \n",
    "lexically ordered list of dict keys.\n",
    "+ If an index is passed, the values in data corresponding to the labels in the index will be pulled out.\n",
    "   + If the index exists in the dict, the value will the one corresponding to the label in the dict.\n",
    "   + If the index does not exists in the dict, the value for that index will be NaN."
   ]
  },
  {
   "cell_type": "code",
   "execution_count": 9,
   "metadata": {},
   "outputs": [],
   "source": [
    "# Examples:\n",
    "d = {'a': 0., 'b': 1., 'c': 2.}\n",
    "d1 = pd.Series(d)\n",
    "d2 = pd.Series(d, index=['b', 'c', 'd', 'a'])"
   ]
  },
  {
   "cell_type": "code",
   "execution_count": 10,
   "metadata": {},
   "outputs": [
    {
     "data": {
      "text/plain": [
       "{'a': 0.0, 'b': 1.0, 'c': 2.0}"
      ]
     },
     "execution_count": 10,
     "metadata": {},
     "output_type": "execute_result"
    }
   ],
   "source": [
    "d"
   ]
  },
  {
   "cell_type": "code",
   "execution_count": 11,
   "metadata": {},
   "outputs": [
    {
     "data": {
      "text/plain": [
       "a    0.0\n",
       "b    1.0\n",
       "c    2.0\n",
       "dtype: float64"
      ]
     },
     "execution_count": 11,
     "metadata": {},
     "output_type": "execute_result"
    }
   ],
   "source": [
    "d1"
   ]
  },
  {
   "cell_type": "code",
   "execution_count": 12,
   "metadata": {},
   "outputs": [
    {
     "data": {
      "text/plain": [
       "b    1.0\n",
       "c    2.0\n",
       "d    NaN\n",
       "a    0.0\n",
       "dtype: float64"
      ]
     },
     "execution_count": 12,
     "metadata": {},
     "output_type": "execute_result"
    }
   ],
   "source": [
    "d2"
   ]
  },
  {
   "cell_type": "markdown",
   "metadata": {},
   "source": [
    "### 3. Create Series from a Scalar\n",
    "\n",
    "When the data argument is a scalar, the series will be populated by repeating the scalar to fill the specified index."
   ]
  },
  {
   "cell_type": "code",
   "execution_count": 13,
   "metadata": {},
   "outputs": [
    {
     "data": {
      "text/plain": [
       "a    8\n",
       "b    8\n",
       "c    8\n",
       "dtype: int64"
      ]
     },
     "execution_count": 13,
     "metadata": {},
     "output_type": "execute_result"
    }
   ],
   "source": [
    "pd.Series(8, index=['a', 'b', 'c'])"
   ]
  },
  {
   "cell_type": "markdown",
   "metadata": {},
   "source": [
    "## Attributes and Methods\n",
    "\n",
    "Before discussing how to use Series and DataFrame, we first enumerate their attributes and functions. We define two functions for this task."
   ]
  },
  {
   "cell_type": "code",
   "execution_count": 14,
   "metadata": {},
   "outputs": [],
   "source": [
    "import inspect\n",
    "def get_class_properties(cls):\n",
    "    results = []\n",
    "    for a in inspect.getmembers(cls):\n",
    "        if not a[0].startswith('_'):\n",
    "            if not inspect.isfunction(a[1]):\n",
    "                results.append(a[0])\n",
    "    return results\n",
    "\n",
    "def get_class_functions(cls):\n",
    "    results = []\n",
    "    for a in inspect.getmembers(cls):\n",
    "        if not a[0].startswith('_'):\n",
    "            if inspect.isfunction(a[1]):\n",
    "                results.append(a[0])\n",
    "    return results"
   ]
  },
  {
   "cell_type": "code",
   "execution_count": 15,
   "metadata": {},
   "outputs": [
    {
     "data": {
      "text/plain": [
       "['T',\n",
       " 'array',\n",
       " 'at',\n",
       " 'attrs',\n",
       " 'axes',\n",
       " 'cat',\n",
       " 'dt',\n",
       " 'dtype',\n",
       " 'dtypes',\n",
       " 'empty',\n",
       " 'hasnans',\n",
       " 'iat',\n",
       " 'iloc',\n",
       " 'index',\n",
       " 'is_monotonic',\n",
       " 'is_monotonic_decreasing',\n",
       " 'is_monotonic_increasing',\n",
       " 'is_unique',\n",
       " 'loc',\n",
       " 'name',\n",
       " 'nbytes',\n",
       " 'ndim',\n",
       " 'plot',\n",
       " 'shape',\n",
       " 'size',\n",
       " 'sparse',\n",
       " 'str',\n",
       " 'values']"
      ]
     },
     "execution_count": 15,
     "metadata": {},
     "output_type": "execute_result"
    }
   ],
   "source": [
    "get_class_properties(pd.Series)"
   ]
  },
  {
   "cell_type": "code",
   "execution_count": 16,
   "metadata": {},
   "outputs": [
    {
     "data": {
      "text/plain": [
       "['abs',\n",
       " 'add',\n",
       " 'add_prefix',\n",
       " 'add_suffix',\n",
       " 'agg',\n",
       " 'aggregate',\n",
       " 'align',\n",
       " 'all',\n",
       " 'any',\n",
       " 'append',\n",
       " 'apply',\n",
       " 'argmax',\n",
       " 'argmin',\n",
       " 'argsort',\n",
       " 'asfreq',\n",
       " 'asof',\n",
       " 'astype',\n",
       " 'at_time',\n",
       " 'autocorr',\n",
       " 'between',\n",
       " 'between_time',\n",
       " 'bfill',\n",
       " 'bool',\n",
       " 'clip',\n",
       " 'combine',\n",
       " 'combine_first',\n",
       " 'convert_dtypes',\n",
       " 'copy',\n",
       " 'corr',\n",
       " 'count',\n",
       " 'cov',\n",
       " 'cummax',\n",
       " 'cummin',\n",
       " 'cumprod',\n",
       " 'cumsum',\n",
       " 'describe',\n",
       " 'diff',\n",
       " 'div',\n",
       " 'divide',\n",
       " 'divmod',\n",
       " 'dot',\n",
       " 'drop',\n",
       " 'drop_duplicates',\n",
       " 'droplevel',\n",
       " 'dropna',\n",
       " 'duplicated',\n",
       " 'eq',\n",
       " 'equals',\n",
       " 'ewm',\n",
       " 'expanding',\n",
       " 'explode',\n",
       " 'factorize',\n",
       " 'ffill',\n",
       " 'fillna',\n",
       " 'filter',\n",
       " 'first',\n",
       " 'first_valid_index',\n",
       " 'floordiv',\n",
       " 'ge',\n",
       " 'get',\n",
       " 'groupby',\n",
       " 'gt',\n",
       " 'head',\n",
       " 'hist',\n",
       " 'idxmax',\n",
       " 'idxmin',\n",
       " 'infer_objects',\n",
       " 'interpolate',\n",
       " 'isin',\n",
       " 'isna',\n",
       " 'isnull',\n",
       " 'item',\n",
       " 'items',\n",
       " 'iteritems',\n",
       " 'keys',\n",
       " 'kurt',\n",
       " 'kurtosis',\n",
       " 'last',\n",
       " 'last_valid_index',\n",
       " 'le',\n",
       " 'lt',\n",
       " 'mad',\n",
       " 'map',\n",
       " 'mask',\n",
       " 'max',\n",
       " 'mean',\n",
       " 'median',\n",
       " 'memory_usage',\n",
       " 'min',\n",
       " 'mod',\n",
       " 'mode',\n",
       " 'mul',\n",
       " 'multiply',\n",
       " 'ne',\n",
       " 'nlargest',\n",
       " 'notna',\n",
       " 'notnull',\n",
       " 'nsmallest',\n",
       " 'nunique',\n",
       " 'pct_change',\n",
       " 'pipe',\n",
       " 'pop',\n",
       " 'pow',\n",
       " 'prod',\n",
       " 'product',\n",
       " 'quantile',\n",
       " 'radd',\n",
       " 'rank',\n",
       " 'ravel',\n",
       " 'rdiv',\n",
       " 'rdivmod',\n",
       " 'reindex',\n",
       " 'reindex_like',\n",
       " 'rename',\n",
       " 'rename_axis',\n",
       " 'reorder_levels',\n",
       " 'repeat',\n",
       " 'replace',\n",
       " 'resample',\n",
       " 'reset_index',\n",
       " 'rfloordiv',\n",
       " 'rmod',\n",
       " 'rmul',\n",
       " 'rolling',\n",
       " 'round',\n",
       " 'rpow',\n",
       " 'rsub',\n",
       " 'rtruediv',\n",
       " 'sample',\n",
       " 'searchsorted',\n",
       " 'sem',\n",
       " 'set_axis',\n",
       " 'shift',\n",
       " 'skew',\n",
       " 'slice_shift',\n",
       " 'sort_index',\n",
       " 'sort_values',\n",
       " 'squeeze',\n",
       " 'std',\n",
       " 'sub',\n",
       " 'subtract',\n",
       " 'sum',\n",
       " 'swapaxes',\n",
       " 'swaplevel',\n",
       " 'tail',\n",
       " 'take',\n",
       " 'to_clipboard',\n",
       " 'to_csv',\n",
       " 'to_dict',\n",
       " 'to_excel',\n",
       " 'to_frame',\n",
       " 'to_hdf',\n",
       " 'to_json',\n",
       " 'to_latex',\n",
       " 'to_list',\n",
       " 'to_markdown',\n",
       " 'to_numpy',\n",
       " 'to_period',\n",
       " 'to_pickle',\n",
       " 'to_sql',\n",
       " 'to_string',\n",
       " 'to_timestamp',\n",
       " 'to_xarray',\n",
       " 'tolist',\n",
       " 'transform',\n",
       " 'transpose',\n",
       " 'truediv',\n",
       " 'truncate',\n",
       " 'tshift',\n",
       " 'tz_convert',\n",
       " 'tz_localize',\n",
       " 'unique',\n",
       " 'unstack',\n",
       " 'update',\n",
       " 'value_counts',\n",
       " 'var',\n",
       " 'view',\n",
       " 'where',\n",
       " 'xs']"
      ]
     },
     "execution_count": 16,
     "metadata": {},
     "output_type": "execute_result"
    }
   ],
   "source": [
    "get_class_functions(pd.Series)"
   ]
  },
  {
   "cell_type": "code",
   "execution_count": 17,
   "metadata": {},
   "outputs": [
    {
     "data": {
      "text/plain": [
       "['T',\n",
       " 'at',\n",
       " 'attrs',\n",
       " 'axes',\n",
       " 'columns',\n",
       " 'dtypes',\n",
       " 'empty',\n",
       " 'from_dict',\n",
       " 'from_records',\n",
       " 'iat',\n",
       " 'iloc',\n",
       " 'index',\n",
       " 'loc',\n",
       " 'ndim',\n",
       " 'plot',\n",
       " 'shape',\n",
       " 'size',\n",
       " 'sparse',\n",
       " 'style',\n",
       " 'values']"
      ]
     },
     "execution_count": 17,
     "metadata": {},
     "output_type": "execute_result"
    }
   ],
   "source": [
    "get_class_properties(pd.DataFrame)"
   ]
  },
  {
   "cell_type": "code",
   "execution_count": 18,
   "metadata": {},
   "outputs": [
    {
     "data": {
      "text/plain": [
       "['abs',\n",
       " 'add',\n",
       " 'add_prefix',\n",
       " 'add_suffix',\n",
       " 'agg',\n",
       " 'aggregate',\n",
       " 'align',\n",
       " 'all',\n",
       " 'any',\n",
       " 'append',\n",
       " 'apply',\n",
       " 'applymap',\n",
       " 'asfreq',\n",
       " 'asof',\n",
       " 'assign',\n",
       " 'astype',\n",
       " 'at_time',\n",
       " 'between_time',\n",
       " 'bfill',\n",
       " 'bool',\n",
       " 'boxplot',\n",
       " 'clip',\n",
       " 'combine',\n",
       " 'combine_first',\n",
       " 'convert_dtypes',\n",
       " 'copy',\n",
       " 'corr',\n",
       " 'corrwith',\n",
       " 'count',\n",
       " 'cov',\n",
       " 'cummax',\n",
       " 'cummin',\n",
       " 'cumprod',\n",
       " 'cumsum',\n",
       " 'describe',\n",
       " 'diff',\n",
       " 'div',\n",
       " 'divide',\n",
       " 'dot',\n",
       " 'drop',\n",
       " 'drop_duplicates',\n",
       " 'droplevel',\n",
       " 'dropna',\n",
       " 'duplicated',\n",
       " 'eq',\n",
       " 'equals',\n",
       " 'eval',\n",
       " 'ewm',\n",
       " 'expanding',\n",
       " 'explode',\n",
       " 'ffill',\n",
       " 'fillna',\n",
       " 'filter',\n",
       " 'first',\n",
       " 'first_valid_index',\n",
       " 'floordiv',\n",
       " 'ge',\n",
       " 'get',\n",
       " 'groupby',\n",
       " 'gt',\n",
       " 'head',\n",
       " 'hist',\n",
       " 'idxmax',\n",
       " 'idxmin',\n",
       " 'infer_objects',\n",
       " 'info',\n",
       " 'insert',\n",
       " 'interpolate',\n",
       " 'isin',\n",
       " 'isna',\n",
       " 'isnull',\n",
       " 'items',\n",
       " 'iteritems',\n",
       " 'iterrows',\n",
       " 'itertuples',\n",
       " 'join',\n",
       " 'keys',\n",
       " 'kurt',\n",
       " 'kurtosis',\n",
       " 'last',\n",
       " 'last_valid_index',\n",
       " 'le',\n",
       " 'lookup',\n",
       " 'lt',\n",
       " 'mad',\n",
       " 'mask',\n",
       " 'max',\n",
       " 'mean',\n",
       " 'median',\n",
       " 'melt',\n",
       " 'memory_usage',\n",
       " 'merge',\n",
       " 'min',\n",
       " 'mod',\n",
       " 'mode',\n",
       " 'mul',\n",
       " 'multiply',\n",
       " 'ne',\n",
       " 'nlargest',\n",
       " 'notna',\n",
       " 'notnull',\n",
       " 'nsmallest',\n",
       " 'nunique',\n",
       " 'pct_change',\n",
       " 'pipe',\n",
       " 'pivot',\n",
       " 'pivot_table',\n",
       " 'pop',\n",
       " 'pow',\n",
       " 'prod',\n",
       " 'product',\n",
       " 'quantile',\n",
       " 'query',\n",
       " 'radd',\n",
       " 'rank',\n",
       " 'rdiv',\n",
       " 'reindex',\n",
       " 'reindex_like',\n",
       " 'rename',\n",
       " 'rename_axis',\n",
       " 'reorder_levels',\n",
       " 'replace',\n",
       " 'resample',\n",
       " 'reset_index',\n",
       " 'rfloordiv',\n",
       " 'rmod',\n",
       " 'rmul',\n",
       " 'rolling',\n",
       " 'round',\n",
       " 'rpow',\n",
       " 'rsub',\n",
       " 'rtruediv',\n",
       " 'sample',\n",
       " 'select_dtypes',\n",
       " 'sem',\n",
       " 'set_axis',\n",
       " 'set_index',\n",
       " 'shift',\n",
       " 'skew',\n",
       " 'slice_shift',\n",
       " 'sort_index',\n",
       " 'sort_values',\n",
       " 'squeeze',\n",
       " 'stack',\n",
       " 'std',\n",
       " 'sub',\n",
       " 'subtract',\n",
       " 'sum',\n",
       " 'swapaxes',\n",
       " 'swaplevel',\n",
       " 'tail',\n",
       " 'take',\n",
       " 'to_clipboard',\n",
       " 'to_csv',\n",
       " 'to_dict',\n",
       " 'to_excel',\n",
       " 'to_feather',\n",
       " 'to_gbq',\n",
       " 'to_hdf',\n",
       " 'to_html',\n",
       " 'to_json',\n",
       " 'to_latex',\n",
       " 'to_markdown',\n",
       " 'to_numpy',\n",
       " 'to_parquet',\n",
       " 'to_period',\n",
       " 'to_pickle',\n",
       " 'to_records',\n",
       " 'to_sql',\n",
       " 'to_stata',\n",
       " 'to_string',\n",
       " 'to_timestamp',\n",
       " 'to_xarray',\n",
       " 'transform',\n",
       " 'transpose',\n",
       " 'truediv',\n",
       " 'truncate',\n",
       " 'tshift',\n",
       " 'tz_convert',\n",
       " 'tz_localize',\n",
       " 'unstack',\n",
       " 'update',\n",
       " 'var',\n",
       " 'where',\n",
       " 'xs']"
      ]
     },
     "execution_count": 18,
     "metadata": {},
     "output_type": "execute_result"
    }
   ],
   "source": [
    "get_class_functions(pd.DataFrame)"
   ]
  },
  {
   "cell_type": "markdown",
   "metadata": {},
   "source": [
    "### Distinctions between attributes and methods\n",
    "\n",
    "An attribute is a variable which refers to an object being part of the data of a class (class attribute) or an instance of the class (instance attribute). \n",
    "\n",
    "A method is function whose scope is limited to a class (class method) or an object (instance method).\n",
    "\n",
    "Since an attribute is an object, it can have its own set of attributes and methods. \n",
    "\n",
    "For example, cities.plot is an attribute of type `PlotAccessor` and we can call its methods with a form like `cities.plot.bar()`. Here `cities.plot.bar()` is a method of the `plot` attribites of object `cities`.\n",
    "\n",
    "In contrast, `cities.item()` is a method that returns an iterable of tuples containing the (index, value) pairs from the      Series `cities`."
   ]
  },
  {
   "cell_type": "markdown",
   "metadata": {},
   "source": [
    "## Case Studies - Cities Populations\n",
    "\n",
    "Given a Series object construct as below, answer the following questions:\n",
    "\n",
    "```\n",
    "d = {'Columbia': 129272, 'Charleston': 120083, 'Clemson': 13905}\n",
    "cities = pd.Series(d, index=['Columbia', 'Clemson', 'Greenville', 'Charleston'], name='sc_cities')\n",
    "```\n",
    "\n",
    "1. What is the index of the `cities` object and what is the dtype of the element of this index?\n",
    "1. How many items in the Series `cities` and what are the values?\n",
    "1. Is cities.index an attribute or a method?\n",
    "1. Is cities.values an attribute or a method?\n",
    "1. Is cities.items an attribute or a method?\n",
    "1. How to get the values in `ndarray` representation? \n",
    "1. Is cities.plot a method or an attribute?\n",
    "1. Is cities.loc a method or an attribute? \n",
    "1. Is cities.items a method or an attribute?"
   ]
  },
  {
   "cell_type": "code",
   "execution_count": 19,
   "metadata": {},
   "outputs": [],
   "source": [
    "d = {'Columbia': 129272, 'Charleston': 120083, 'Clemson': 13905}\n",
    "cities = pd.Series(d, index=['Columbia', 'Clemson', 'Greenville', 'Charleston'], name='sc_cities')"
   ]
  },
  {
   "cell_type": "code",
   "execution_count": 20,
   "metadata": {},
   "outputs": [
    {
     "data": {
      "text/plain": [
       "Index(['Columbia', 'Clemson', 'Greenville', 'Charleston'], dtype='object')"
      ]
     },
     "execution_count": 20,
     "metadata": {},
     "output_type": "execute_result"
    }
   ],
   "source": [
    "cities.index"
   ]
  },
  {
   "cell_type": "code",
   "execution_count": 21,
   "metadata": {},
   "outputs": [
    {
     "name": "stdout",
     "output_type": "stream",
     "text": [
      "<class 'pandas.core.indexing._LocIndexer'>\n"
     ]
    }
   ],
   "source": [
    "print(type(cities.loc))"
   ]
  },
  {
   "cell_type": "code",
   "execution_count": 22,
   "metadata": {},
   "outputs": [],
   "source": [
    "# help(cities)"
   ]
  },
  {
   "cell_type": "code",
   "execution_count": 23,
   "metadata": {},
   "outputs": [
    {
     "name": "stdout",
     "output_type": "stream",
     "text": [
      "<class 'method'>\n"
     ]
    }
   ],
   "source": [
    "print(type(cities.items))"
   ]
  },
  {
   "cell_type": "code",
   "execution_count": 24,
   "metadata": {},
   "outputs": [
    {
     "data": {
      "text/plain": [
       "pandas.plotting._core.PlotAccessor"
      ]
     },
     "execution_count": 24,
     "metadata": {},
     "output_type": "execute_result"
    }
   ],
   "source": [
    "type(cities.plot)"
   ]
  },
  {
   "cell_type": "code",
   "execution_count": 25,
   "metadata": {},
   "outputs": [
    {
     "data": {
      "text/plain": [
       "method"
      ]
     },
     "execution_count": 25,
     "metadata": {},
     "output_type": "execute_result"
    }
   ],
   "source": [
    "type(cities.items)"
   ]
  },
  {
   "cell_type": "code",
   "execution_count": 26,
   "metadata": {},
   "outputs": [
    {
     "name": "stdout",
     "output_type": "stream",
     "text": [
      "Help on method items in module pandas.core.series:\n",
      "\n",
      "items() method of pandas.core.series.Series instance\n",
      "    Lazily iterate over (index, value) tuples.\n",
      "    \n",
      "    This method returns an iterable tuple (index, value). This is\n",
      "    convenient if you want to create a lazy iterator.\n",
      "    \n",
      "    Returns\n",
      "    -------\n",
      "    iterable\n",
      "        Iterable of tuples containing the (index, value) pairs from a\n",
      "        Series.\n",
      "    \n",
      "    See Also\n",
      "    --------\n",
      "    DataFrame.items : Iterate over (column name, Series) pairs.\n",
      "    DataFrame.iterrows : Iterate over DataFrame rows as (index, Series) pairs.\n",
      "    \n",
      "    Examples\n",
      "    --------\n",
      "    >>> s = pd.Series(['A', 'B', 'C'])\n",
      "    >>> for index, value in s.items():\n",
      "    ...     print(f\"Index : {index}, Value : {value}\")\n",
      "    Index : 0, Value : A\n",
      "    Index : 1, Value : B\n",
      "    Index : 2, Value : C\n",
      "\n"
     ]
    }
   ],
   "source": [
    "help(cities.items)"
   ]
  },
  {
   "cell_type": "code",
   "execution_count": 27,
   "metadata": {},
   "outputs": [],
   "source": [
    "# cities.to_numpy()\n",
    "# np.array(cities)"
   ]
  },
  {
   "cell_type": "markdown",
   "metadata": {},
   "source": [
    "### Use Series \n",
    "\n",
    "+ The Series wraps both a sequence of values and a sequence os indices.\n",
    "   + To access the values, use the `values` attribute.\n",
    "   + To access the indices, use the `index` attribute.\n",
    "+ The data in the Series can be accessed by the index or position of the data item."
   ]
  },
  {
   "cell_type": "code",
   "execution_count": 28,
   "metadata": {},
   "outputs": [],
   "source": [
    "# help(cities.plot)"
   ]
  },
  {
   "cell_type": "markdown",
   "metadata": {},
   "source": [
    "### Series Operations\n",
    "+ Series is ndarray-like. For most NumPy functions, we can replace the ndarray argument with a corresponding Series object.\n",
    "+ Series is dict-like. We can get and set values by index lable."
   ]
  },
  {
   "cell_type": "code",
   "execution_count": 29,
   "metadata": {},
   "outputs": [
    {
     "name": "stdout",
     "output_type": "stream",
     "text": [
      "Values of cities object =  [129272.  13905.     nan 120083.]\n",
      "Index of cities object =  Index(['Columbia', 'Clemson', 'Greenville', 'Charleston'], dtype='object')\n",
      "Population of Clemson =  13905.0\n",
      "Population of cities[1] =  13905.0\n",
      "Population of all cities:\n",
      "Columbia \t 129272.0\n",
      "Clemson \t 13905.0\n",
      "Greenville \t nan\n",
      "Charleston \t 120083.0\n",
      "Populations of the first two cities: \n",
      "\t 129272.0\n",
      "\t 13905.0\n",
      "Populations of the first two and the last cities:\n",
      "\t 129272.0\n",
      "\t 13905.0\n",
      "\t 120083.0\n"
     ]
    }
   ],
   "source": [
    "# Construct the cities Series object \n",
    "poplations = {'Columbia': 129272, 'Charleston': 120083, 'Clemson': 13905}\n",
    "cities = pd.Series(poplations, index=['Columbia', 'Clemson', 'Greenville', 'Charleston'])\n",
    "\n",
    "# Access the values and index of the Series\n",
    "print(\"Values of cities object = \", cities.values)\n",
    "print(\"Index of cities object = \", cities.index)\n",
    "\n",
    "# Access Series data\n",
    "print(\"Population of Clemson = \", cities['Clemson'])\n",
    "print(\"Population of cities[1] = \", cities[1])\n",
    "print(\"Population of all cities:\")\n",
    "for c, p in cities.items():\n",
    "    print(c, \"\\t\", p)\n",
    "print(\"Populations of the first two cities: \")\n",
    "for c in cities[0:2]:\n",
    "    print(\"\\t\", c)\n",
    "print(\"Populations of the first two and the last cities:\")\n",
    "for c in cities[[0, 1, -1]]:\n",
    "    print(\"\\t\", c)\n"
   ]
  },
  {
   "cell_type": "code",
   "execution_count": 30,
   "metadata": {},
   "outputs": [
    {
     "data": {
      "text/plain": [
       "<matplotlib.axes._subplots.AxesSubplot at 0x7f3a9cdabd60>"
      ]
     },
     "execution_count": 30,
     "metadata": {},
     "output_type": "execute_result"
    },
    {
     "data": {
      "image/png": "[encoded data removed]",
      "text/plain": [
       "<Figure size 432x288 with 1 Axes>"
      ]
     },
     "metadata": {
      "needs_background": "light"
     },
     "output_type": "display_data"
    }
   ],
   "source": [
    "# plot\n",
    "cities.plot.bar()"
   ]
  },
  {
   "cell_type": "code",
   "execution_count": 31,
   "metadata": {},
   "outputs": [
    {
     "data": {
      "text/plain": [
       "<matplotlib.axes._subplots.AxesSubplot at 0x7f3a9c13a3a0>"
      ]
     },
     "execution_count": 31,
     "metadata": {},
     "output_type": "execute_result"
    },
    {
     "data": {
      "image/png": "[encoded data removed]",
      "text/plain": [
       "<Figure size 432x288 with 1 Axes>"
      ]
     },
     "metadata": {
      "needs_background": "light"
     },
     "output_type": "display_data"
    }
   ],
   "source": [
    "# Drop Missing Data\n",
    "# ?cities.dropna\n",
    "cities.dropna(inplace=True)\n",
    "cities.plot.bar()"
   ]
  },
  {
   "cell_type": "markdown",
   "metadata": {},
   "source": [
    "### DataFrame\n",
    "\n",
    "When you have a deeper understanding of the `Series` data type, it should be easier to understand the `DataFrame` type. You can view a DataFrame as a dict of Series in which the column names are the keys and the Series as the values.\n",
    "\n"
   ]
  },
  {
   "cell_type": "code",
   "execution_count": 32,
   "metadata": {},
   "outputs": [
    {
     "data": {
      "text/html": [
       "<div>\n",
       "<style scoped>\n",
       "    .dataframe tbody tr th:only-of-type {\n",
       "        vertical-align: middle;\n",
       "    }\n",
       "\n",
       "    .dataframe tbody tr th {\n",
       "        vertical-align: top;\n",
       "    }\n",
       "\n",
       "    .dataframe thead th {\n",
       "        text-align: right;\n",
       "    }\n",
       "</style>\n",
       "<table border=\"1\" class=\"dataframe\">\n",
       "  <thead>\n",
       "    <tr style=\"text-align: right;\">\n",
       "      <th></th>\n",
       "      <th>name</th>\n",
       "      <th>position</th>\n",
       "      <th>height</th>\n",
       "      <th>weight</th>\n",
       "      <th>classes</th>\n",
       "    </tr>\n",
       "  </thead>\n",
       "  <tbody>\n",
       "    <tr>\n",
       "      <th>0</th>\n",
       "      <td>Hunter Helms</td>\n",
       "      <td>QB</td>\n",
       "      <td>6.1</td>\n",
       "      <td>210</td>\n",
       "      <td>FR</td>\n",
       "    </tr>\n",
       "    <tr>\n",
       "      <th>1</th>\n",
       "      <td>Trevor Lawrence</td>\n",
       "      <td>QB</td>\n",
       "      <td>6.2</td>\n",
       "      <td>220</td>\n",
       "      <td>JR</td>\n",
       "    </tr>\n",
       "    <tr>\n",
       "      <th>2</th>\n",
       "      <td>Drew Swinney</td>\n",
       "      <td>WR</td>\n",
       "      <td>5.1</td>\n",
       "      <td>180</td>\n",
       "      <td>SO</td>\n",
       "    </tr>\n",
       "  </tbody>\n",
       "</table>\n",
       "</div>"
      ],
      "text/plain": [
       "              name position  height  weight classes\n",
       "0     Hunter Helms       QB     6.1     210      FR\n",
       "1  Trevor Lawrence       QB     6.2     220      JR\n",
       "2     Drew Swinney       WR     5.1     180      SO"
      ]
     },
     "execution_count": 32,
     "metadata": {},
     "output_type": "execute_result"
    }
   ],
   "source": [
    "name = pd.Series([\"Hunter Helms\", \"Trevor Lawrence\", \"Drew Swinney\"])\n",
    "position = pd.Series([\"QB\", \"QB\", \"WR\"])\n",
    "height = pd.Series([6.1, 6.2, 5.10])\n",
    "weight = pd.Series([210, 220, 180])\n",
    "classes = pd.Series([\"FR\", \"JR\", \"SO\"])\n",
    "df = pd.DataFrame({\"name\": name, \n",
    "                  \"position\": position,\n",
    "                  \"height\": height,\n",
    "                  \"weight\": weight,\n",
    "                  \"classes\": classes})\n",
    "df"
   ]
  },
  {
   "cell_type": "markdown",
   "metadata": {},
   "source": [
    "# Grammar of Data Manipulation\n",
    "\n",
    "Formulated in dplyr, a data grammar provides a consistent set of verbs to abstract the most common set of data manipulation tasks. \n",
    "\n",
    "|    Verbs    |  dplyr     | pandas     | SQL  |\n",
    "| ----------- | ---------- | ---------- | ---- |\n",
    "| query/select| filter()/slice() | query(), loc[], iloc[] | SELECT WHERE |\n",
    "| sort        | arrange()        | sort()                 | ORDER BY     |\n",
    "| select-columns/projection | select() |  selection bracket, loc, iloc  | SELECT COLUMN|\n",
    "| select-distinct | distinct() | unique(), dropy_duplicates() | SELECT DISTINCT COLUMN | \n",
    "| assign | mutate(), transmute() | assign() | ALTER/UPDATE |\n",
    "| aggregate | summarize() | describe(), mean(), max(), etc. | AVG(), MAX() |\n",
    "| sample | sample_n(), sample_frac() | sample() | RAND() |\n",
    "| group-aggregate | group_by/summarize() | groupby/agg(), count(), mean() | GROUP BY|\n",
    "| delete | | drop/masking | DELETE/WHERE|\n"
   ]
  },
  {
   "cell_type": "code",
   "execution_count": null,
   "metadata": {},
   "outputs": [],
   "source": []
  }
 ],
 "metadata": {
  "kernelspec": {
   "display_name": "Python 3",
   "language": "python",
   "name": "python3"
  },
  "language_info": {
   "codemirror_mode": {
    "name": "ipython",
    "version": 3
   },
   "file_extension": ".py",
   "mimetype": "text/x-python",
   "name": "python",
   "nbconvert_exporter": "python",
   "pygments_lexer": "ipython3",
   "version": "3.8.3"
  }
 },
 "nbformat": 4,
 "nbformat_minor": 4
}
