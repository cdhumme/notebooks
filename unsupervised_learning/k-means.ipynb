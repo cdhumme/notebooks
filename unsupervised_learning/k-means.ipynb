{
 "cells": [
  {
   "cell_type": "markdown",
   "metadata": {},
   "source": [
    "# k-Means Clustering\n",
    "\n",
    "Unsupervised learning is a type of machine learning that looks for previously undetected patterns in a data set with no pre-existing labels and with a minimum of human supervision.\n",
    "\n",
    "In contrast to supervised learning that usually makes use of human-labeled data, unsupervised learning, also known as self-organization allows for modeling of probability densities over inputs.\n",
    "\n",
    "Two of the main methods used in unsupervised learning are principal component and cluster analysis.\n",
    "\n",
    "## Cluster Analysis\n",
    "Cluster analysis is used in unsupervised learning to group, or segment, datasets with shared attributes in order to extrapolate algorithmic relationships. Its is a branch of machine learning that groups the data that has not been labelled, classified or categorized. \n",
    "\n",
    "Instead of responding to feedback, cluster analysis identifies commonalities in the data and reacts based on the presence or absence of such commonalities in each new piece of data. This approach helps detect anomalous data points that do not fit into either group.\n",
    "\n",
    "Cluster analysis itself is not one specific algorithm, but the general task to be solved. It can be achieved by various algorithms that differ significantly in their understanding of what constitutes a cluster and how to efficiently find them.\n",
    "\n",
    "Popular notions of clusters include groups with small distances between cluster members, dense areas of the data space, intervals or particular statistical distributions. Clustering can therefore be formulated as a multi-objective optimization problem. The appropriate clustering algorithm and parameter settings (including parameters such as the distance function to use, a density threshold or the number of expected clusters) depend on the individual data set and intended use of the results.\n",
    "\n",
    "Cluster analysis as such is not an automatic task, but an iterative process of knowledge discovery or interactive multi-objective optimization that involves trial and failure. It is often necessary to modify data preprocessing and model parameters until the result achieves the desired properties.\n",
    "\n",
    "Besides the term clustering, there are a number of terms with similar meanings, including:\n",
    "+ automatic classification\n",
    "+ numerical taxonomy\n",
    "+ botryology (from Greek βότρυς \"grape\")\n",
    "+ typological analysis\n",
    "+ community detection. "
   ]
  },
  {
   "cell_type": "markdown",
   "metadata": {},
   "source": [
    "## Cluster\n",
    "\n",
    "The notion of a \"cluster\" cannot be precisely defined, which is one of the reasons why there are so many clustering algorithms. There is a common denominator: a group of data objects.\n",
    "\n",
    "The notion of a cluster, as found by different algorithms, varies significantly in its properties. Understanding these \"cluster models\" is key to understanding the differences between the various algorithms.\n",
    " \n",
    "Typical cluster models include:\n",
    "\n",
    "+ Connectivity models: e.g, hierarchical clustering.\n",
    "+ Centroid models: e.g., k-means algorithm\n",
    "+ Distribution models: e.g., multivariate normal distributions used by the expectation-maximization algorithm.\n",
    "+ Density models: for example, DBSCAN and OPTICS defines clusters as connected dense regions in the data space.\n",
    "+ Subspace models: e.g. in biclustering, clusters are modeled with both cluster members and relevant attributes.\n",
    "+ Group models: grouping information.\n",
    "+ Graph-based models: e.g., cliques (a subset of nodes in which every two nodes are connected by an edge) and quasi-cliques (allows a fraction of the edges to be missing).\n",
    "+ Neural models: e.g., the self-organizing map"
   ]
  },
  {
   "cell_type": "code",
   "execution_count": null,
   "metadata": {},
   "outputs": [],
   "source": []
  },
  {
   "cell_type": "markdown",
   "metadata": {},
   "source": [
    "## Stardard imports"
   ]
  },
  {
   "cell_type": "code",
   "execution_count": null,
   "metadata": {},
   "outputs": [],
   "source": [
    "%matplotlib inline\n",
    "import numpy as np\n",
    "import pandas as pd\n",
    "import matplotlib.pyplot as plt\n",
    "import seaborn as sns; sns.set()\n",
    "sns.set_style('white')"
   ]
  },
  {
   "cell_type": "code",
   "execution_count": null,
   "metadata": {},
   "outputs": [],
   "source": []
  }
 ],
 "metadata": {
  "kernelspec": {
   "display_name": "Python 3",
   "language": "python",
   "name": "python3"
  },
  "language_info": {
   "codemirror_mode": {
    "name": "ipython",
    "version": 3
   },
   "file_extension": ".py",
   "mimetype": "text/x-python",
   "name": "python",
   "nbconvert_exporter": "python",
   "pygments_lexer": "ipython3",
   "version": "3.7.6"
  }
 },
 "nbformat": 4,
 "nbformat_minor": 4
}
